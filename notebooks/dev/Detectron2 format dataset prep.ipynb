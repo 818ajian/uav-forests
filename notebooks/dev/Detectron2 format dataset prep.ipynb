{
 "cells": [
  {
   "cell_type": "code",
   "execution_count": 1,
   "metadata": {},
   "outputs": [
    {
     "data": {
      "text/plain": "'/home/h/uav-forests'"
     },
     "execution_count": 1,
     "metadata": {},
     "output_type": "execute_result"
    }
   ],
   "source": [
    "import os \n",
    "os.chdir(\"../..\")\n",
    "os.getcwd()"
   ]
  },
  {
   "cell_type": "code",
   "execution_count": 2,
   "metadata": {},
   "outputs": [],
   "source": [
    "import numpy as np\n",
    "import json\n",
    "from detectron2.structures import BoxMode\n",
    "import pandas as pd\n",
    "import geopandas as gpd\n",
    "import cv2\n",
    "import matplotlib.pyplot as plt\n",
    "import tifffile\n",
    "\n",
    "from detectron2.data import DatasetCatalog, MetadataCatalog\n",
    "from detectron2.utils.visualizer import Visualizer\n",
    "from src.utils.dataset import split_train_val_test, get_detectron2_dataset_dicts#, #register_detectron2_datasets\n",
    "import pickle"
   ]
  },
  {
   "cell_type": "code",
   "execution_count": 3,
   "metadata": {},
   "outputs": [],
   "source": [
    "import os\n",
    "import cv2\n",
    "import pandas as pd\n",
    "import geopandas as gpd\n",
    "import numpy as np\n",
    "\n",
    "from functools import partial\n",
    "\n",
    "from detectron2.structures import BoxMode\n",
    "from detectron2.data import DatasetCatalog, MetadataCatalog\n",
    "\n",
    "from sklearn.model_selection import train_test_split\n",
    "\n",
    "\n",
    "def split_train_val_test(samples, train_ratio, val_ratio, test_ratio=None):\n",
    "    test_ratio = test_ratio or (1.0 - train_ratio - val_ratio)\n",
    "    assert 0 < train_ratio < 1\n",
    "    assert 0 < val_ratio < 1\n",
    "    assert 0 < test_ratio < 1\n",
    "    assert 0 < train_ratio + val_ratio + test_ratio <=1\n",
    "\n",
    "    train, valtest = train_test_split(samples, train_size=train_ratio)\n",
    "    val, test = train_test_split(\n",
    "        valtest, train_size=val_ratio / (val_ratio + test_ratio))\n",
    "\n",
    "    return {\"train\": train,\n",
    "            \"val\": val,\n",
    "            \"test\": test}\n",
    "\n",
    "\n",
    "def _convert_single_bbox(bbox):\n",
    "    py, px = bbox.exterior.xy\n",
    "    return {\"bbox\": [int(min(px)), int(min(py)),\n",
    "                     int(max(px)), int(max(py))],\n",
    "            \"bbox_mode\": BoxMode.XYXY_ABS,\n",
    "            \"category_id\": 0}\n",
    "\n",
    "\n",
    "def _convert_single_patch(patch_df, images_dir,image_shape=(256, 256)):\n",
    "    patch_number = patch_df[\"patch_number\"].iloc[0]\n",
    "    file_path = os.path.join(images_dir, f\"patch_{patch_number}.tif\")\n",
    "    image_shape = image_shape or cv2.imread(file_path).shape[:2]\n",
    "    return {\"file_name\": file_path,\n",
    "            \"image_id\": patch_number,\n",
    "            \"height\": image_shape[0],\n",
    "            \"width\": image_shape[1],\n",
    "            \"annotations\": patch_df[\"bbox\"].apply(_convert_single_bbox).tolist()}\n",
    "\n",
    "\n",
    "# def get_detectron2_dataset_dicts(images_dir, patches_subset, min_bbox_area=100,\n",
    "#                                  limit_train=-1, limit_val=-1, limit_test=-1):\n",
    "\n",
    "   \n"
   ]
  },
  {
   "cell_type": "code",
   "execution_count": 4,
   "metadata": {},
   "outputs": [],
   "source": [
    "images_dir = \"../szprotawa_patches_256_rgb_ir/\"\n",
    "min_bbox_area = 400\n",
    "\n",
    "annotations = pd.read_pickle(f\"{images_dir}/annotation.pkl\").set_geometry(\"bbox\")\n",
    "\n",
    "splits = split_train_val_test(annotations[\"patch_number\"].unique(), 0.7, 0.15, 0.15)\n",
    "patches_subset = splits['test']"
   ]
  },
  {
   "cell_type": "code",
   "execution_count": 5,
   "metadata": {},
   "outputs": [],
   "source": [
    "annotations = annotations[annotations[\"bbox\"].area >= min_bbox_area]\n",
    "annotations = annotations[annotations[\"patch_number\"].isin(patches_subset)]"
   ]
  },
  {
   "cell_type": "code",
   "execution_count": 6,
   "metadata": {},
   "outputs": [],
   "source": [
    "g = annotations.groupby(\"patch_number\")"
   ]
  },
  {
   "cell_type": "code",
   "execution_count": 7,
   "metadata": {},
   "outputs": [],
   "source": [
    "dataset_dicts = get_detectron2_dataset_dicts(images_dir, splits[\"val\"], min_bbox_area=200)#g.apply(_convert_single_patch, images_dir=images_dir, image_shape=(256,256)).tolist()"
   ]
  },
  {
   "cell_type": "code",
   "execution_count": 8,
   "metadata": {},
   "outputs": [],
   "source": [
    "DatasetCatalog.register(\"szp_test3\", lambda: dataset_dicts)"
   ]
  },
  {
   "cell_type": "code",
   "execution_count": 9,
   "metadata": {},
   "outputs": [
    {
     "data": {
      "text/plain": "Metadata(name='szp_test3', thing_classes=['SickTrees'])"
     },
     "execution_count": 9,
     "metadata": {},
     "output_type": "execute_result"
    }
   ],
   "source": [
    "MetadataCatalog.get(\"szp_test3\").set(thing_classes=[\"SickTrees\"])"
   ]
  },
  {
   "cell_type": "code",
   "execution_count": 10,
   "metadata": {},
   "outputs": [],
   "source": [
    "# dataset_dicts = get_szprotawa_dicts(\"data/szprotawa_patches_256/\")\n",
    "# dataset_dicts = DatasetCatalog.get(\"szprotawa_train\")"
   ]
  },
  {
   "cell_type": "code",
   "execution_count": 11,
   "metadata": {},
   "outputs": [],
   "source": [
    "meta = MetadataCatalog.get(\"szp_test3\")"
   ]
  },
  {
   "cell_type": "code",
   "execution_count": 12,
   "metadata": {},
   "outputs": [
    {
     "data": {
      "text/plain": "'\\nsmpl = np.random.choice(dataset_dicts, 3)\\nrgb_axes = [0,3]\\nndvi_axes = [3,4]\\nfor d, axes in zip(smpl, (rgb_axes , rgb_axes, rgb_axes)):\\n    print(d[\"file_name\"])\\n    img = tifffile.imread(d[\"file_name\"])\\n    \\n    img = np.swapaxes(img, 0, -1)\\n    \\n    if axes == ndvi_axes:\\n        img = np.reshape(img, img.shape[:2])\\n        img[:,axes[0]:axes[1]]\\n    else:\\n        img[:,:,axes[0]:axes[1]]\\n    #print(img.shape, img.dtype)\\n    \\n    visualizer = Visualizer(img, metadata=meta, \\n                            scale=0.75)\\n    #vis = visualizer.draw_dataset_dict(d)\\n    plt.figure()\\n    plt.imshow(vis.get_image())\\n'"
     },
     "execution_count": 12,
     "metadata": {},
     "output_type": "execute_result"
    }
   ],
   "source": [
    "'''\n",
    "smpl = np.random.choice(dataset_dicts, 3)\n",
    "rgb_axes = [0,3]\n",
    "ndvi_axes = [3,4]\n",
    "for d, axes in zip(smpl, (rgb_axes , rgb_axes, rgb_axes)):\n",
    "    print(d[\"file_name\"])\n",
    "    img = tifffile.imread(d[\"file_name\"])\n",
    "    \n",
    "    img = np.swapaxes(img, 0, -1)\n",
    "    \n",
    "    if axes == ndvi_axes:\n",
    "        img = np.reshape(img, img.shape[:2])\n",
    "        img[:,axes[0]:axes[1]]\n",
    "    else:\n",
    "        img[:,:,axes[0]:axes[1]]\n",
    "    #print(img.shape, img.dtype)\n",
    "    \n",
    "    visualizer = Visualizer(img, metadata=meta, \n",
    "                            scale=0.75)\n",
    "    #vis = visualizer.draw_dataset_dict(d)\n",
    "    plt.figure()\n",
    "    plt.imshow(vis.get_image())\n",
    "'''"
   ]
  },
  {
   "cell_type": "code",
   "execution_count": 13,
   "metadata": {},
   "outputs": [
    {
     "data": {
      "text/plain": "Reusing TensorBoard on port 6007 (pid 20186), started 1:19:47 ago. (Use '!kill 20186' to kill it.)"
     },
     "metadata": {},
     "output_type": "display_data"
    },
    {
     "data": {
      "text/html": "\n      <iframe id=\"tensorboard-frame-3307f348cca2162c\" width=\"100%\" height=\"800\" frameborder=\"0\">\n      </iframe>\n      <script>\n        (function() {\n          const frame = document.getElementById(\"tensorboard-frame-3307f348cca2162c\");\n          const url = new URL(\"/\", window.location);\n          url.port = 6007;\n          frame.src = url;\n        })();\n      </script>\n  ",
      "text/plain": "<IPython.core.display.HTML object>"
     },
     "metadata": {},
     "output_type": "display_data"
    }
   ],
   "source": [
    "# Look at training curves in tensorboard:\n",
    "%load_ext tensorboard\n",
    "%tensorboard --logdir output"
   ]
  },
  {
   "cell_type": "code",
   "execution_count": 14,
   "metadata": {},
   "outputs": [],
   "source": [
    "from detectron2 import model_zoo\n",
    "from detectron2.engine import DefaultTrainer\n",
    "from detectron2.config import get_cfg\n",
    "from detectron2.engine import DefaultPredictor"
   ]
  },
  {
   "cell_type": "code",
   "execution_count": 15,
   "metadata": {},
   "outputs": [],
   "source": [
    "from datetime import datetime\n"
   ]
  },
  {
   "cell_type": "code",
   "execution_count": 16,
   "metadata": {},
   "outputs": [
    {
     "name": "stderr",
     "output_type": "stream",
     "text": "Loading config /home/h/detectron2/detectron2/model_zoo/configs/COCO-Detection/../Base-RetinaNet.yaml with yaml.unsafe_load. Your machine may be at risk if the file contains malicious content.\nCUDNN_BENCHMARK: False\nDATALOADER:\n  ASPECT_RATIO_GROUPING: True\n  FILTER_EMPTY_ANNOTATIONS: True\n  NUM_WORKERS: 4\n  REPEAT_THRESHOLD: 0.0\n  SAMPLER_TRAIN: TrainingSampler\nDATASETS:\n  PRECOMPUTED_PROPOSAL_TOPK_TEST: 1000\n  PRECOMPUTED_PROPOSAL_TOPK_TRAIN: 2000\n  PROPOSAL_FILES_TEST: ()\n  PROPOSAL_FILES_TRAIN: ()\n  TEST: ('szp_test3',)\n  TRAIN: ('szp_test3',)\nGLOBAL:\n  HACK: 1.0\nINPUT:\n  CROP:\n    ENABLED: False\n    SIZE: [0.9, 0.9]\n    TYPE: relative_range\n  FORMAT: BGR\n  MASK_FORMAT: polygon\n  MAX_SIZE_TEST: 1333\n  MAX_SIZE_TRAIN: 1333\n  MIN_SIZE_TEST: 800\n  MIN_SIZE_TRAIN: (640, 672, 704, 736, 768, 800)\n  MIN_SIZE_TRAIN_SAMPLING: choice\nMODEL:\n  ANCHOR_GENERATOR:\n    ANGLES: [[-90, 0, 90]]\n    ASPECT_RATIOS: [[0.5, 1.0, 2.0]]\n    NAME: DefaultAnchorGenerator\n    OFFSET: 0.0\n    SIZES: [[32, 40.31747359663594, 50.79683366298238], [64, 80.63494719327188, 101.59366732596476], [128, 161.26989438654377, 203.18733465192952], [256, 322.53978877308754, 406.37466930385904], [512, 645.0795775461751, 812.7493386077181]]\n  BACKBONE:\n    FREEZE_AT: 2\n    NAME: build_retinanet_resnet_fpn_backbone\n  DEVICE: cuda\n  FPN:\n    FUSE_TYPE: sum\n    IN_FEATURES: ['res3', 'res4', 'res5']\n    NORM: \n    OUT_CHANNELS: 256\n  KEYPOINT_ON: False\n  LOAD_PROPOSALS: False\n  MASK_ON: False\n  META_ARCHITECTURE: RetinaNet\n  PANOPTIC_FPN:\n    COMBINE:\n      ENABLED: True\n      INSTANCES_CONFIDENCE_THRESH: 0.5\n      OVERLAP_THRESH: 0.5\n      STUFF_AREA_LIMIT: 4096\n    INSTANCE_LOSS_WEIGHT: 1.0\n  PIXEL_MEAN: [103.53, 116.28, 123.675, 100.1]\n  PIXEL_STD: [1.0, 1.0, 1.0, 1.0]\n  PROPOSAL_GENERATOR:\n    MIN_SIZE: 0\n    NAME: RPN\n  RESNETS:\n    DEFORM_MODULATED: False\n    DEFORM_NUM_GROUPS: 1\n    DEFORM_ON_PER_STAGE: [False, False, False, False]\n    DEPTH: 50\n    NORM: FrozenBN\n    NUM_GROUPS: 1\n    OUT_FEATURES: ['res3', 'res4', 'res5']\n    RES2_OUT_CHANNELS: 256\n    RES5_DILATION: 1\n    STEM_OUT_CHANNELS: 64\n    STRIDE_IN_1X1: True\n    WIDTH_PER_GROUP: 64\n  RETINANET:\n    BATCH_SIZE_PER_IMAGE: 128\n    BBOX_REG_WEIGHTS: (1.0, 1.0, 1.0, 1.0)\n    FOCAL_LOSS_ALPHA: 0.25\n    FOCAL_LOSS_GAMMA: 2.0\n    IN_FEATURES: ['p3', 'p4', 'p5', 'p6', 'p7']\n    IOU_LABELS: [0, -1, 1]\n    IOU_THRESHOLDS: [0.4, 0.5]\n    NMS_THRESH_TEST: 0.5\n    NUM_CLASSES: 1\n    NUM_CONVS: 4\n    PRIOR_PROB: 0.01\n    SCORE_THRESH_TEST: 0.05\n    SMOOTH_L1_LOSS_BETA: 0.1\n    TOPK_CANDIDATES_TEST: 1000\n  ROI_BOX_CASCADE_HEAD:\n    BBOX_REG_WEIGHTS: ((10.0, 10.0, 5.0, 5.0), (20.0, 20.0, 10.0, 10.0), (30.0, 30.0, 15.0, 15.0))\n    IOUS: (0.5, 0.6, 0.7)\n  ROI_BOX_HEAD:\n    BBOX_REG_WEIGHTS: (10.0, 10.0, 5.0, 5.0)\n    CLS_AGNOSTIC_BBOX_REG: False\n    CONV_DIM: 256\n    FC_DIM: 1024\n    NAME: \n    NORM: \n    NUM_CONV: 0\n    NUM_FC: 0\n    POOLER_RESOLUTION: 14\n    POOLER_SAMPLING_RATIO: 0\n    POOLER_TYPE: ROIAlignV2\n    SMOOTH_L1_BETA: 0.0\n    TRAIN_ON_PRED_BOXES: False\n  ROI_HEADS:\n    BATCH_SIZE_PER_IMAGE: 512\n    IN_FEATURES: ['res4']\n    IOU_LABELS: [0, 1]\n    IOU_THRESHOLDS: [0.5]\n    NAME: Res5ROIHeads\n    NMS_THRESH_TEST: 0.5\n    NUM_CLASSES: 80\n    POSITIVE_FRACTION: 0.25\n    PROPOSAL_APPEND_GT: True\n    SCORE_THRESH_TEST: 0.05\n  ROI_KEYPOINT_HEAD:\n    CONV_DIMS: (512, 512, 512, 512, 512, 512, 512, 512)\n    LOSS_WEIGHT: 1.0\n    MIN_KEYPOINTS_PER_IMAGE: 1\n    NAME: KRCNNConvDeconvUpsampleHead\n    NORMALIZE_LOSS_BY_VISIBLE_KEYPOINTS: True\n    NUM_KEYPOINTS: 17\n    POOLER_RESOLUTION: 14\n    POOLER_SAMPLING_RATIO: 0\n    POOLER_TYPE: ROIAlignV2\n  ROI_MASK_HEAD:\n    CLS_AGNOSTIC_MASK: False\n    CONV_DIM: 256\n    NAME: MaskRCNNConvUpsampleHead\n    NORM: \n    NUM_CONV: 0\n    POOLER_RESOLUTION: 14\n    POOLER_SAMPLING_RATIO: 0\n    POOLER_TYPE: ROIAlignV2\n  RPN:\n    BATCH_SIZE_PER_IMAGE: 256\n    BBOX_REG_WEIGHTS: (1.0, 1.0, 1.0, 1.0)\n    BOUNDARY_THRESH: -1\n    HEAD_NAME: StandardRPNHead\n    IN_FEATURES: ['res4']\n    IOU_LABELS: [0, -1, 1]\n    IOU_THRESHOLDS: [0.3, 0.7]\n    LOSS_WEIGHT: 1.0\n    NMS_THRESH: 0.7\n    POSITIVE_FRACTION: 0.5\n    POST_NMS_TOPK_TEST: 1000\n    POST_NMS_TOPK_TRAIN: 2000\n    PRE_NMS_TOPK_TEST: 6000\n    PRE_NMS_TOPK_TRAIN: 12000\n    SMOOTH_L1_BETA: 0.0\n  SEM_SEG_HEAD:\n    COMMON_STRIDE: 4\n    CONVS_DIM: 128\n    IGNORE_VALUE: 255\n    IN_FEATURES: ['p2', 'p3', 'p4', 'p5']\n    LOSS_WEIGHT: 1.0\n    NAME: SemSegFPNHead\n    NORM: GN\n    NUM_CLASSES: 54\n  WEIGHTS: https://dl.fbaipublicfiles.com/detectron2/COCO-Detection/retinanet_R_50_FPN_3x/137849486/model_final_4cafe0.pkl\nOUTPUT_DIR: ./tboard_logs/retinanet 2020-02-09T17:27/\nSEED: -1\nSOLVER:\n  BASE_LR: 0.00025\n  BIAS_LR_FACTOR: 1.0\n  CHECKPOINT_PERIOD: 5000\n  GAMMA: 0.1\n  IMS_PER_BATCH: 4\n  LR_SCHEDULER_NAME: WarmupMultiStepLR\n  MAX_ITER: 10000\n  MOMENTUM: 0.9\n  STEPS: (210000, 250000)\n  WARMUP_FACTOR: 0.001\n  WARMUP_ITERS: 1000\n  WARMUP_METHOD: linear\n  WEIGHT_DECAY: 0.0001\n  WEIGHT_DECAY_BIAS: 0.0001\n  WEIGHT_DECAY_NORM: 0.0\nTEST:\n  AUG:\n    ENABLED: False\n    FLIP: True\n    MAX_SIZE: 4000\n    MIN_SIZES: (400, 500, 600, 700, 800, 900, 1000, 1100, 1200)\n  DETECTIONS_PER_IMAGE: 5\n  EVAL_PERIOD: 0\n  EXPECTED_RESULTS: []\n  KEYPOINT_OKS_SIGMAS: []\n  PRECISE_BN:\n    ENABLED: False\n    NUM_ITER: 200\nVERSION: 2\nVIS_PERIOD: 100\n"
    }
   ],
   "source": [
    "cfg = get_cfg()\n",
    "\n",
    "cfg.OUTPUT_DIR = f\"./tboard_logs/retinanet {datetime.now().isoformat().rsplit(':', 1)[0]}/\"\n",
    "cfg.merge_from_file(model_zoo.get_config_file(\"COCO-Detection/retinanet_R_50_FPN_3x.yaml\"))\n",
    "\n",
    "cfg.DATASETS.TRAIN = (\"szp_test3\",)\n",
    "cfg.DATASETS.TEST = (\"szp_test3\",)\n",
    "cfg.DATALOADER.NUM_WORKERS = 4\n",
    "\n",
    "cfg.MODEL.WEIGHTS = model_zoo.get_checkpoint_url(\"COCO-Detection/retinanet_R_50_FPN_3x.yaml\")  # Let training initialize from model zoo\n",
    "\n",
    "cfg.SOLVER.IMS_PER_BATCH = 4\n",
    "cfg.SOLVER.BASE_LR = 0.00025  # pick a good LR\n",
    "cfg.SOLVER.MAX_ITER = 10_000    # 300 iterations seems good enough for this toy dataset; you may need to train longer for a practical dataset\n",
    "\n",
    "cfg.MODEL.RETINANET.BATCH_SIZE_PER_IMAGE = 128   # faster, and good enough for this toy dataset (default: 512)\n",
    "cfg.MODEL.RETINANET.NUM_CLASSES = 1  # only has one class (ballon)\n",
    "\n",
    "cfg.TEST.EVAL_PERIOD = 0#2_000 #200\n",
    "cfg.TEST.DETECTIONS_PER_IMAGE = 5\n",
    "\n",
    "cfg.VIS_PERIOD = 100\n",
    "cfg.MODEL.PIXEL_MEAN = [103.53, 116.28, 123.675, 100.1] #ostatnia wartość wpisana z palca\n",
    "cfg.MODEL.PIXEL_STD =  [1.0, 1.0, 1.0, 1.0] #ostatnia wartość wpisana z palca\n",
    "print(cfg)"
   ]
  },
  {
   "cell_type": "code",
   "execution_count": 17,
   "metadata": {},
   "outputs": [],
   "source": [
    "from detectron2.evaluation import COCOEvaluator, inference_on_dataset\n",
    "from detectron2.data import build_detection_test_loader\n",
    "\n",
    "\n",
    "class Trainer(DefaultTrainer):\n",
    "    \n",
    "    \n",
    "    def build_evaluator(cls, cfg, dataset_name, output_folder=None):\n",
    "        return COCOEvaluator(dataset_name, cfg, False, output_dir=cfg.OUTPUT_DIR+\"/eval/\")\n",
    "\n"
   ]
  },
  {
   "cell_type": "code",
   "execution_count": 18,
   "metadata": {},
   "outputs": [
    {
     "name": "stdout",
     "output_type": "stream",
     "text": "loss_box_reg: 0.007  time: 0.3710  data_time: 0.0068  lr: 0.000250  max_mem: 2539M\n\u001b[32m[02/09 18:16:50 d2.utils.events]: \u001b[0meta: 0:12:24  iter: 7999  total_loss: 0.012  loss_cls: 0.006  loss_box_reg: 0.007  time: 0.3710  data_time: 0.0066  lr: 0.000250  max_mem: 2539M\n\u001b[32m[02/09 18:16:57 d2.utils.events]: \u001b[0meta: 0:12:17  iter: 8019  total_loss: 0.013  loss_cls: 0.005  loss_box_reg: 0.007  time: 0.3710  data_time: 0.0070  lr: 0.000250  max_mem: 2539M\n\u001b[32m[02/09 18:17:05 d2.utils.events]: \u001b[0meta: 0:12:09  iter: 8039  total_loss: 0.013  loss_cls: 0.005  loss_box_reg: 0.007  time: 0.3710  data_time: 0.0070  lr: 0.000250  max_mem: 2539M\n\u001b[32m[02/09 18:17:12 d2.utils.events]: \u001b[0meta: 0:12:02  iter: 8059  total_loss: 0.012  loss_cls: 0.004  loss_box_reg: 0.007  time: 0.3710  data_time: 0.0070  lr: 0.000250  max_mem: 2539M\n\u001b[32m[02/09 18:17:19 d2.utils.events]: \u001b[0meta: 0:11:54  iter: 8079  total_loss: 0.012  loss_cls: 0.005  loss_box_reg: 0.007  time: 0.3710  data_time: 0.0068  lr: 0.000250  max_mem: 2539M\n\u001b[32m[02/09 18:17:27 d2.utils.events]: \u001b[0meta: 0:11:47  iter: 8099  total_loss: 0.012  loss_cls: 0.004  loss_box_reg: 0.008  time: 0.3710  data_time: 0.0068  lr: 0.000250  max_mem: 2539M\n\u001b[32m[02/09 18:17:34 d2.utils.events]: \u001b[0meta: 0:11:39  iter: 8119  total_loss: 0.011  loss_cls: 0.005  loss_box_reg: 0.007  time: 0.3710  data_time: 0.0073  lr: 0.000250  max_mem: 2539M\n\u001b[32m[02/09 18:17:41 d2.utils.events]: \u001b[0meta: 0:11:32  iter: 8139  total_loss: 0.011  loss_cls: 0.005  loss_box_reg: 0.007  time: 0.3710  data_time: 0.0071  lr: 0.000250  max_mem: 2539M\n\u001b[32m[02/09 18:17:49 d2.utils.events]: \u001b[0meta: 0:11:25  iter: 8159  total_loss: 0.010  loss_cls: 0.004  loss_box_reg: 0.006  time: 0.3710  data_time: 0.0070  lr: 0.000250  max_mem: 2539M\n\u001b[32m[02/09 18:17:57 d2.utils.events]: \u001b[0meta: 0:11:18  iter: 8179  total_loss: 0.011  loss_cls: 0.004  loss_box_reg: 0.006  time: 0.3710  data_time: 0.0069  lr: 0.000250  max_mem: 2539M\n\u001b[32m[02/09 18:18:04 d2.utils.events]: \u001b[0meta: 0:11:11  iter: 8199  total_loss: 0.012  loss_cls: 0.005  loss_box_reg: 0.008  time: 0.3711  data_time: 0.0067  lr: 0.000250  max_mem: 2539M\n\u001b[32m[02/09 18:18:12 d2.utils.events]: \u001b[0meta: 0:11:03  iter: 8219  total_loss: 0.010  loss_cls: 0.004  loss_box_reg: 0.007  time: 0.3711  data_time: 0.0065  lr: 0.000250  max_mem: 2539M\n\u001b[32m[02/09 18:18:19 d2.utils.events]: \u001b[0meta: 0:10:56  iter: 8239  total_loss: 0.012  loss_cls: 0.006  loss_box_reg: 0.006  time: 0.3711  data_time: 0.0072  lr: 0.000250  max_mem: 2539M\n\u001b[32m[02/09 18:18:27 d2.utils.events]: \u001b[0meta: 0:10:48  iter: 8259  total_loss: 0.011  loss_cls: 0.004  loss_box_reg: 0.007  time: 0.3711  data_time: 0.0068  lr: 0.000250  max_mem: 2539M\n\u001b[32m[02/09 18:18:34 d2.utils.events]: \u001b[0meta: 0:10:41  iter: 8279  total_loss: 0.013  loss_cls: 0.005  loss_box_reg: 0.007  time: 0.3711  data_time: 0.0068  lr: 0.000250  max_mem: 2539M\n\u001b[32m[02/09 18:18:42 d2.utils.events]: \u001b[0meta: 0:10:34  iter: 8299  total_loss: 0.012  loss_cls: 0.005  loss_box_reg: 0.007  time: 0.3711  data_time: 0.0068  lr: 0.000250  max_mem: 2539M\n\u001b[32m[02/09 18:18:49 d2.utils.events]: \u001b[0meta: 0:10:27  iter: 8319  total_loss: 0.012  loss_cls: 0.005  loss_box_reg: 0.007  time: 0.3711  data_time: 0.0070  lr: 0.000250  max_mem: 2539M\n\u001b[32m[02/09 18:18:57 d2.utils.events]: \u001b[0meta: 0:10:19  iter: 8339  total_loss: 0.010  loss_cls: 0.004  loss_box_reg: 0.007  time: 0.3711  data_time: 0.0063  lr: 0.000250  max_mem: 2539M\n\u001b[32m[02/09 18:19:04 d2.utils.events]: \u001b[0meta: 0:10:11  iter: 8359  total_loss: 0.012  loss_cls: 0.005  loss_box_reg: 0.007  time: 0.3711  data_time: 0.0068  lr: 0.000250  max_mem: 2539M\n\u001b[32m[02/09 18:19:11 d2.utils.events]: \u001b[0meta: 0:10:04  iter: 8379  total_loss: 0.011  loss_cls: 0.005  loss_box_reg: 0.006  time: 0.3711  data_time: 0.0067  lr: 0.000250  max_mem: 2539M\n\u001b[32m[02/09 18:19:19 d2.utils.events]: \u001b[0meta: 0:09:56  iter: 8399  total_loss: 0.010  loss_cls: 0.005  loss_box_reg: 0.006  time: 0.3711  data_time: 0.0066  lr: 0.000250  max_mem: 2539M\n\u001b[32m[02/09 18:19:26 d2.utils.events]: \u001b[0meta: 0:09:48  iter: 8419  total_loss: 0.009  loss_cls: 0.004  loss_box_reg: 0.006  time: 0.3711  data_time: 0.0069  lr: 0.000250  max_mem: 2539M\n\u001b[32m[02/09 18:19:33 d2.utils.events]: \u001b[0meta: 0:09:41  iter: 8439  total_loss: 0.014  loss_cls: 0.006  loss_box_reg: 0.007  time: 0.3711  data_time: 0.0065  lr: 0.000250  max_mem: 2539M\n\u001b[32m[02/09 18:19:41 d2.utils.events]: \u001b[0meta: 0:09:33  iter: 8459  total_loss: 0.011  loss_cls: 0.004  loss_box_reg: 0.006  time: 0.3710  data_time: 0.0069  lr: 0.000250  max_mem: 2539M\n\u001b[32m[02/09 18:19:48 d2.utils.events]: \u001b[0meta: 0:09:25  iter: 8479  total_loss: 0.012  loss_cls: 0.004  loss_box_reg: 0.006  time: 0.3710  data_time: 0.0058  lr: 0.000250  max_mem: 2539M\n\u001b[32m[02/09 18:19:56 d2.utils.events]: \u001b[0meta: 0:09:18  iter: 8499  total_loss: 0.013  loss_cls: 0.004  loss_box_reg: 0.008  time: 0.3711  data_time: 0.0066  lr: 0.000250  max_mem: 2539M\n\u001b[32m[02/09 18:20:03 d2.utils.events]: \u001b[0meta: 0:09:11  iter: 8519  total_loss: 0.010  loss_cls: 0.004  loss_box_reg: 0.006  time: 0.3711  data_time: 0.0061  lr: 0.000250  max_mem: 2539M\n\u001b[32m[02/09 18:20:11 d2.utils.events]: \u001b[0meta: 0:09:03  iter: 8539  total_loss: 0.011  loss_cls: 0.004  loss_box_reg: 0.006  time: 0.3711  data_time: 0.0068  lr: 0.000250  max_mem: 2539M\n\u001b[32m[02/09 18:20:18 d2.utils.events]: \u001b[0meta: 0:08:55  iter: 8559  total_loss: 0.011  loss_cls: 0.004  loss_box_reg: 0.006  time: 0.3710  data_time: 0.0068  lr: 0.000250  max_mem: 2539M\n\u001b[32m[02/09 18:20:25 d2.utils.events]: \u001b[0meta: 0:08:48  iter: 8579  total_loss: 0.009  loss_cls: 0.004  loss_box_reg: 0.006  time: 0.3711  data_time: 0.0067  lr: 0.000250  max_mem: 2539M\n\u001b[32m[02/09 18:20:33 d2.utils.events]: \u001b[0meta: 0:08:41  iter: 8599  total_loss: 0.010  loss_cls: 0.004  loss_box_reg: 0.007  time: 0.3711  data_time: 0.0063  lr: 0.000250  max_mem: 2539M\n\u001b[32m[02/09 18:20:40 d2.utils.events]: \u001b[0meta: 0:08:33  iter: 8619  total_loss: 0.012  loss_cls: 0.004  loss_box_reg: 0.007  time: 0.3711  data_time: 0.0068  lr: 0.000250  max_mem: 2539M\n\u001b[32m[02/09 18:20:48 d2.utils.events]: \u001b[0meta: 0:08:26  iter: 8639  total_loss: 0.011  loss_cls: 0.004  loss_box_reg: 0.006  time: 0.3711  data_time: 0.0056  lr: 0.000250  max_mem: 2539M\n\u001b[32m[02/09 18:20:55 d2.utils.events]: \u001b[0meta: 0:08:18  iter: 8659  total_loss: 0.009  loss_cls: 0.003  loss_box_reg: 0.006  time: 0.3710  data_time: 0.0067  lr: 0.000250  max_mem: 2539M\n\u001b[32m[02/09 18:21:03 d2.utils.events]: \u001b[0meta: 0:08:11  iter: 8679  total_loss: 0.009  loss_cls: 0.004  loss_box_reg: 0.005  time: 0.3711  data_time: 0.0068  lr: 0.000250  max_mem: 2539M\n\u001b[32m[02/09 18:21:10 d2.utils.events]: \u001b[0meta: 0:08:03  iter: 8699  total_loss: 0.012  loss_cls: 0.004  loss_box_reg: 0.007  time: 0.3711  data_time: 0.0063  lr: 0.000250  max_mem: 2539M\n\u001b[32m[02/09 18:21:17 d2.utils.events]: \u001b[0meta: 0:07:55  iter: 8719  total_loss: 0.010  loss_cls: 0.003  loss_box_reg: 0.006  time: 0.3711  data_time: 0.0070  lr: 0.000250  max_mem: 2539M\n\u001b[32m[02/09 18:21:25 d2.utils.events]: \u001b[0meta: 0:07:47  iter: 8739  total_loss: 0.011  loss_cls: 0.004  loss_box_reg: 0.007  time: 0.3710  data_time: 0.0071  lr: 0.000250  max_mem: 2539M\n\u001b[32m[02/09 18:21:32 d2.utils.events]: \u001b[0meta: 0:07:40  iter: 8759  total_loss: 0.008  loss_cls: 0.003  loss_box_reg: 0.005  time: 0.3711  data_time: 0.0069  lr: 0.000250  max_mem: 2539M\n\u001b[32m[02/09 18:21:40 d2.utils.events]: \u001b[0meta: 0:07:33  iter: 8779  total_loss: 0.010  loss_cls: 0.004  loss_box_reg: 0.007  time: 0.3711  data_time: 0.0066  lr: 0.000250  max_mem: 2539M\n\u001b[32m[02/09 18:21:48 d2.utils.events]: \u001b[0meta: 0:07:26  iter: 8799  total_loss: 0.009  loss_cls: 0.003  loss_box_reg: 0.005  time: 0.3711  data_time: 0.0065  lr: 0.000250  max_mem: 2539M\n\u001b[32m[02/09 18:21:55 d2.utils.events]: \u001b[0meta: 0:07:18  iter: 8819  total_loss: 0.011  loss_cls: 0.004  loss_box_reg: 0.006  time: 0.3711  data_time: 0.0065  lr: 0.000250  max_mem: 2539M\n\u001b[32m[02/09 18:22:03 d2.utils.events]: \u001b[0meta: 0:07:11  iter: 8839  total_loss: 0.009  loss_cls: 0.003  loss_box_reg: 0.006  time: 0.3711  data_time: 0.0066  lr: 0.000250  max_mem: 2539M\n\u001b[32m[02/09 18:22:10 d2.utils.events]: \u001b[0meta: 0:07:03  iter: 8859  total_loss: 0.010  loss_cls: 0.003  loss_box_reg: 0.006  time: 0.3711  data_time: 0.0068  lr: 0.000250  max_mem: 2539M\n\u001b[32m[02/09 18:22:17 d2.utils.events]: \u001b[0meta: 0:06:56  iter: 8879  total_loss: 0.009  loss_cls: 0.003  loss_box_reg: 0.005  time: 0.3711  data_time: 0.0069  lr: 0.000250  max_mem: 2539M\n\u001b[32m[02/09 18:22:25 d2.utils.events]: \u001b[0meta: 0:06:48  iter: 8899  total_loss: 0.009  loss_cls: 0.003  loss_box_reg: 0.006  time: 0.3711  data_time: 0.0068  lr: 0.000250  max_mem: 2539M\n\u001b[32m[02/09 18:22:32 d2.utils.events]: \u001b[0meta: 0:06:42  iter: 8919  total_loss: 0.010  loss_cls: 0.003  loss_box_reg: 0.006  time: 0.3711  data_time: 0.0069  lr: 0.000250  max_mem: 2539M\n\u001b[32m[02/09 18:22:39 d2.utils.events]: \u001b[0meta: 0:06:34  iter: 8939  total_loss: 0.009  loss_cls: 0.003  loss_box_reg: 0.006  time: 0.3711  data_time: 0.0066  lr: 0.000250  max_mem: 2539M\n\u001b[32m[02/09 18:22:47 d2.utils.events]: \u001b[0meta: 0:06:27  iter: 8959  total_loss: 0.010  loss_cls: 0.004  loss_box_reg: 0.007  time: 0.3711  data_time: 0.0075  lr: 0.000250  max_mem: 2539M\n\u001b[32m[02/09 18:22:54 d2.utils.events]: \u001b[0meta: 0:06:19  iter: 8979  total_loss: 0.011  loss_cls: 0.005  loss_box_reg: 0.007  time: 0.3711  data_time: 0.0063  lr: 0.000250  max_mem: 2539M\n\u001b[32m[02/09 18:23:02 d2.utils.events]: \u001b[0meta: 0:06:11  iter: 8999  total_loss: 0.009  loss_cls: 0.003  loss_box_reg: 0.005  time: 0.3711  data_time: 0.0066  lr: 0.000250  max_mem: 2539M\n\u001b[32m[02/09 18:23:09 d2.utils.events]: \u001b[0meta: 0:06:03  iter: 9019  total_loss: 0.010  loss_cls: 0.004  loss_box_reg: 0.005  time: 0.3711  data_time: 0.0068  lr: 0.000250  max_mem: 2539M\n\u001b[32m[02/09 18:23:17 d2.utils.events]: \u001b[0meta: 0:05:56  iter: 9039  total_loss: 0.010  loss_cls: 0.003  loss_box_reg: 0.006  time: 0.3711  data_time: 0.0066  lr: 0.000250  max_mem: 2539M\n\u001b[32m[02/09 18:23:24 d2.utils.events]: \u001b[0meta: 0:05:49  iter: 9059  total_loss: 0.009  loss_cls: 0.004  loss_box_reg: 0.005  time: 0.3711  data_time: 0.0071  lr: 0.000250  max_mem: 2539M\n\u001b[32m[02/09 18:23:31 d2.utils.events]: \u001b[0meta: 0:05:41  iter: 9079  total_loss: 0.010  loss_cls: 0.005  loss_box_reg: 0.007  time: 0.3711  data_time: 0.0072  lr: 0.000250  max_mem: 2539M\n\u001b[32m[02/09 18:23:39 d2.utils.events]: \u001b[0meta: 0:05:34  iter: 9099  total_loss: 0.009  loss_cls: 0.004  loss_box_reg: 0.005  time: 0.3711  data_time: 0.0067  lr: 0.000250  max_mem: 2539M\n\u001b[32m[02/09 18:23:46 d2.utils.events]: \u001b[0meta: 0:05:27  iter: 9119  total_loss: 0.009  loss_cls: 0.004  loss_box_reg: 0.006  time: 0.3711  data_time: 0.0072  lr: 0.000250  max_mem: 2539M\n\u001b[32m[02/09 18:23:54 d2.utils.events]: \u001b[0meta: 0:05:20  iter: 9139  total_loss: 0.008  loss_cls: 0.003  loss_box_reg: 0.005  time: 0.3711  data_time: 0.0068  lr: 0.000250  max_mem: 2539M\n\u001b[32m[02/09 18:24:01 d2.utils.events]: \u001b[0meta: 0:05:11  iter: 9159  total_loss: 0.009  loss_cls: 0.003  loss_box_reg: 0.005  time: 0.3711  data_time: 0.0068  lr: 0.000250  max_mem: 2539M\n\u001b[32m[02/09 18:24:08 d2.utils.events]: \u001b[0meta: 0:05:04  iter: 9179  total_loss: 0.009  loss_cls: 0.004  loss_box_reg: 0.005  time: 0.3711  data_time: 0.0065  lr: 0.000250  max_mem: 2539M\n\u001b[32m[02/09 18:24:16 d2.utils.events]: \u001b[0meta: 0:04:56  iter: 9199  total_loss: 0.009  loss_cls: 0.003  loss_box_reg: 0.006  time: 0.3711  data_time: 0.0068  lr: 0.000250  max_mem: 2539M\n\u001b[32m[02/09 18:24:23 d2.utils.events]: \u001b[0meta: 0:04:49  iter: 9219  total_loss: 0.011  loss_cls: 0.004  loss_box_reg: 0.006  time: 0.3711  data_time: 0.0065  lr: 0.000250  max_mem: 2539M\n\u001b[32m[02/09 18:24:30 d2.utils.events]: \u001b[0meta: 0:04:41  iter: 9239  total_loss: 0.009  loss_cls: 0.003  loss_box_reg: 0.005  time: 0.3710  data_time: 0.0069  lr: 0.000250  max_mem: 2539M\n\u001b[32m[02/09 18:24:38 d2.utils.events]: \u001b[0meta: 0:04:34  iter: 9259  total_loss: 0.009  loss_cls: 0.003  loss_box_reg: 0.006  time: 0.3710  data_time: 0.0068  lr: 0.000250  max_mem: 2539M\n\u001b[32m[02/09 18:24:45 d2.utils.events]: \u001b[0meta: 0:04:26  iter: 9279  total_loss: 0.008  loss_cls: 0.003  loss_box_reg: 0.005  time: 0.3710  data_time: 0.0067  lr: 0.000250  max_mem: 2539M\n\u001b[32m[02/09 18:24:53 d2.utils.events]: \u001b[0meta: 0:04:19  iter: 9299  total_loss: 0.011  loss_cls: 0.004  loss_box_reg: 0.006  time: 0.3710  data_time: 0.0068  lr: 0.000250  max_mem: 2539M\n\u001b[32m[02/09 18:25:00 d2.utils.events]: \u001b[0meta: 0:04:12  iter: 9319  total_loss: 0.008  loss_cls: 0.003  loss_box_reg: 0.005  time: 0.3710  data_time: 0.0069  lr: 0.000250  max_mem: 2539M\n\u001b[32m[02/09 18:25:07 d2.utils.events]: \u001b[0meta: 0:04:04  iter: 9339  total_loss: 0.009  loss_cls: 0.003  loss_box_reg: 0.005  time: 0.3710  data_time: 0.0067  lr: 0.000250  max_mem: 2539M\n\u001b[32m[02/09 18:25:15 d2.utils.events]: \u001b[0meta: 0:03:57  iter: 9359  total_loss: 0.009  loss_cls: 0.003  loss_box_reg: 0.006  time: 0.3710  data_time: 0.0064  lr: 0.000250  max_mem: 2539M\n\u001b[32m[02/09 18:25:22 d2.utils.events]: \u001b[0meta: 0:03:49  iter: 9379  total_loss: 0.009  loss_cls: 0.003  loss_box_reg: 0.005  time: 0.3710  data_time: 0.0068  lr: 0.000250  max_mem: 2539M\n\u001b[32m[02/09 18:25:30 d2.utils.events]: \u001b[0meta: 0:03:42  iter: 9399  total_loss: 0.010  loss_cls: 0.003  loss_box_reg: 0.006  time: 0.3710  data_time: 0.0065  lr: 0.000250  max_mem: 2539M\n\u001b[32m[02/09 18:25:37 d2.utils.events]: \u001b[0meta: 0:03:35  iter: 9419  total_loss: 0.008  loss_cls: 0.003  loss_box_reg: 0.006  time: 0.3710  data_time: 0.0066  lr: 0.000250  max_mem: 2539M\n\u001b[32m[02/09 18:25:44 d2.utils.events]: \u001b[0meta: 0:03:28  iter: 9439  total_loss: 0.009  loss_cls: 0.003  loss_box_reg: 0.005  time: 0.3710  data_time: 0.0065  lr: 0.000250  max_mem: 2539M\n\u001b[32m[02/09 18:25:52 d2.utils.events]: \u001b[0meta: 0:03:20  iter: 9459  total_loss: 0.009  loss_cls: 0.003  loss_box_reg: 0.006  time: 0.3710  data_time: 0.0072  lr: 0.000250  max_mem: 2539M\n\u001b[32m[02/09 18:25:59 d2.utils.events]: \u001b[0meta: 0:03:13  iter: 9479  total_loss: 0.008  loss_cls: 0.003  loss_box_reg: 0.005  time: 0.3710  data_time: 0.0065  lr: 0.000250  max_mem: 2539M\n\u001b[32m[02/09 18:26:07 d2.utils.events]: \u001b[0meta: 0:03:05  iter: 9499  total_loss: 0.008  loss_cls: 0.003  loss_box_reg: 0.005  time: 0.3710  data_time: 0.0069  lr: 0.000250  max_mem: 2539M\n\u001b[32m[02/09 18:26:14 d2.utils.events]: \u001b[0meta: 0:02:58  iter: 9519  total_loss: 0.008  loss_cls: 0.003  loss_box_reg: 0.005  time: 0.3710  data_time: 0.0067  lr: 0.000250  max_mem: 2539M\n\u001b[32m[02/09 18:26:22 d2.utils.events]: \u001b[0meta: 0:02:51  iter: 9539  total_loss: 0.008  loss_cls: 0.003  loss_box_reg: 0.005  time: 0.3710  data_time: 0.0060  lr: 0.000250  max_mem: 2539M\n\u001b[32m[02/09 18:26:29 d2.utils.events]: \u001b[0meta: 0:02:43  iter: 9559  total_loss: 0.008  loss_cls: 0.003  loss_box_reg: 0.006  time: 0.3710  data_time: 0.0067  lr: 0.000250  max_mem: 2539M\n\u001b[32m[02/09 18:26:36 d2.utils.events]: \u001b[0meta: 0:02:36  iter: 9579  total_loss: 0.009  loss_cls: 0.003  loss_box_reg: 0.005  time: 0.3710  data_time: 0.0065  lr: 0.000250  max_mem: 2539M\n\u001b[32m[02/09 18:26:44 d2.utils.events]: \u001b[0meta: 0:02:28  iter: 9599  total_loss: 0.008  loss_cls: 0.003  loss_box_reg: 0.005  time: 0.3710  data_time: 0.0067  lr: 0.000250  max_mem: 2539M\n\u001b[32m[02/09 18:26:51 d2.utils.events]: \u001b[0meta: 0:02:21  iter: 9619  total_loss: 0.008  loss_cls: 0.003  loss_box_reg: 0.005  time: 0.3710  data_time: 0.0065  lr: 0.000250  max_mem: 2539M\n\u001b[32m[02/09 18:26:58 d2.utils.events]: \u001b[0meta: 0:02:13  iter: 9639  total_loss: 0.009  loss_cls: 0.003  loss_box_reg: 0.006  time: 0.3710  data_time: 0.0067  lr: 0.000250  max_mem: 2539M\n\u001b[32m[02/09 18:27:06 d2.utils.events]: \u001b[0meta: 0:02:06  iter: 9659  total_loss: 0.009  loss_cls: 0.003  loss_box_reg: 0.006  time: 0.3710  data_time: 0.0068  lr: 0.000250  max_mem: 2539M\n\u001b[32m[02/09 18:27:13 d2.utils.events]: \u001b[0meta: 0:01:59  iter: 9679  total_loss: 0.007  loss_cls: 0.002  loss_box_reg: 0.005  time: 0.3710  data_time: 0.0064  lr: 0.000250  max_mem: 2539M\n\u001b[32m[02/09 18:27:21 d2.utils.events]: \u001b[0meta: 0:01:51  iter: 9699  total_loss: 0.008  loss_cls: 0.002  loss_box_reg: 0.005  time: 0.3710  data_time: 0.0064  lr: 0.000250  max_mem: 2539M\n\u001b[32m[02/09 18:27:28 d2.utils.events]: \u001b[0meta: 0:01:44  iter: 9719  total_loss: 0.008  loss_cls: 0.003  loss_box_reg: 0.005  time: 0.3710  data_time: 0.0067  lr: 0.000250  max_mem: 2539M\n\u001b[32m[02/09 18:27:36 d2.utils.events]: \u001b[0meta: 0:01:37  iter: 9739  total_loss: 0.008  loss_cls: 0.003  loss_box_reg: 0.005  time: 0.3710  data_time: 0.0068  lr: 0.000250  max_mem: 2539M\n\u001b[32m[02/09 18:27:43 d2.utils.events]: \u001b[0meta: 0:01:29  iter: 9759  total_loss: 0.010  loss_cls: 0.004  loss_box_reg: 0.006  time: 0.3710  data_time: 0.0070  lr: 0.000250  max_mem: 2539M\n\u001b[32m[02/09 18:27:50 d2.utils.events]: \u001b[0meta: 0:01:22  iter: 9779  total_loss: 0.008  loss_cls: 0.002  loss_box_reg: 0.005  time: 0.3710  data_time: 0.0067  lr: 0.000250  max_mem: 2539M\n\u001b[32m[02/09 18:27:58 d2.utils.events]: \u001b[0meta: 0:01:14  iter: 9799  total_loss: 0.009  loss_cls: 0.003  loss_box_reg: 0.005  time: 0.3710  data_time: 0.0070  lr: 0.000250  max_mem: 2539M\n\u001b[32m[02/09 18:28:06 d2.utils.events]: \u001b[0meta: 0:01:07  iter: 9819  total_loss: 0.008  loss_cls: 0.003  loss_box_reg: 0.005  time: 0.3710  data_time: 0.0070  lr: 0.000250  max_mem: 2539M\n\u001b[32m[02/09 18:28:13 d2.utils.events]: \u001b[0meta: 0:00:59  iter: 9839  total_loss: 0.008  loss_cls: 0.002  loss_box_reg: 0.005  time: 0.3710  data_time: 0.0070  lr: 0.000250  max_mem: 2539M\n\u001b[32m[02/09 18:28:20 d2.utils.events]: \u001b[0meta: 0:00:52  iter: 9859  total_loss: 0.008  loss_cls: 0.003  loss_box_reg: 0.005  time: 0.3710  data_time: 0.0069  lr: 0.000250  max_mem: 2539M\n\u001b[32m[02/09 18:28:28 d2.utils.events]: \u001b[0meta: 0:00:44  iter: 9879  total_loss: 0.009  loss_cls: 0.004  loss_box_reg: 0.006  time: 0.3710  data_time: 0.0068  lr: 0.000250  max_mem: 2539M\n\u001b[32m[02/09 18:28:35 d2.utils.events]: \u001b[0meta: 0:00:37  iter: 9899  total_loss: 0.007  loss_cls: 0.002  loss_box_reg: 0.005  time: 0.3710  data_time: 0.0070  lr: 0.000250  max_mem: 2539M\n\u001b[32m[02/09 18:28:42 d2.utils.events]: \u001b[0meta: 0:00:30  iter: 9919  total_loss: 0.009  loss_cls: 0.003  loss_box_reg: 0.005  time: 0.3710  data_time: 0.0066  lr: 0.000250  max_mem: 2539M\n\u001b[32m[02/09 18:28:50 d2.utils.events]: \u001b[0meta: 0:00:22  iter: 9939  total_loss: 0.007  loss_cls: 0.002  loss_box_reg: 0.005  time: 0.3710  data_time: 0.0061  lr: 0.000250  max_mem: 2539M\n\u001b[32m[02/09 18:28:57 d2.utils.events]: \u001b[0meta: 0:00:15  iter: 9959  total_loss: 0.006  loss_cls: 0.002  loss_box_reg: 0.004  time: 0.3710  data_time: 0.0069  lr: 0.000250  max_mem: 2539M\n\u001b[32m[02/09 18:29:04 d2.utils.events]: \u001b[0meta: 0:00:07  iter: 9979  total_loss: 0.008  loss_cls: 0.003  loss_box_reg: 0.005  time: 0.3709  data_time: 0.0067  lr: 0.000250  max_mem: 2539M\n\u001b[4m\u001b[5m\u001b[31mERROR\u001b[0m \u001b[32m[02/09 18:29:12 d2.engine.train_loop]: \u001b[0mException during training:\nTraceback (most recent call last):\n  File \"/home/h/detectron2/detectron2/engine/train_loop.py\", line 133, in train\n    self.after_step()\n  File \"/home/h/detectron2/detectron2/engine/train_loop.py\", line 153, in after_step\n    h.after_step()\n  File \"/home/h/detectron2/detectron2/engine/hooks.py\", line 347, in after_step\n    self._do_eval()\n  File \"/home/h/detectron2/detectron2/engine/hooks.py\", line 321, in _do_eval\n    results = self._func()\n  File \"/home/h/detectron2/detectron2/engine/defaults.py\", line 331, in test_and_save_results\n    self._last_eval_results = self.test(self.cfg, self.model)\n  File \"/home/h/detectron2/detectron2/engine/defaults.py\", line 486, in test\n    evaluator = cls.build_evaluator(cfg, dataset_name)\nTypeError: build_evaluator() missing 1 required positional argument: 'dataset_name'\n\u001b[32m[02/09 18:29:12 d2.engine.hooks]: \u001b[0mOverall training speed: 9997 iterations in 1:01:48 (0.3710 s / it)\n\u001b[32m[02/09 18:29:12 d2.engine.hooks]: \u001b[0mTotal training time: 1:01:53 (0:00:04 on hooks)\n"
    }
   ],
   "source": [
    "os.makedirs(cfg.OUTPUT_DIR, exist_ok=True)\n",
    "trainer = Trainer(cfg) \n",
    "trainer.resume_or_load(resume=False)\n",
    "trainer.train()"
   ]
  },
  {
   "cell_type": "code",
   "execution_count": 19,
   "metadata": {},
   "outputs": [
    {
     "data": {
      "text/plain": "'./tboard_logs/retinanet 2020-02-09T17:27/'"
     },
     "execution_count": 19,
     "metadata": {},
     "output_type": "execute_result"
    }
   ],
   "source": [
    "cfg.OUTPUT_DIR"
   ]
  },
  {
   "cell_type": "code",
   "execution_count": 20,
   "metadata": {},
   "outputs": [
    {
     "data": {
      "text/plain": "CfgNode({'EXPECTED_RESULTS': [], 'EVAL_PERIOD': 0, 'KEYPOINT_OKS_SIGMAS': [], 'DETECTIONS_PER_IMAGE': 10, 'AUG': CfgNode({'ENABLED': False, 'MIN_SIZES': (400, 500, 600, 700, 800, 900, 1000, 1100, 1200), 'MAX_SIZE': 4000, 'FLIP': True}), 'PRECISE_BN': CfgNode({'ENABLED': False, 'NUM_ITER': 200}), 'SCORE_THRESHOLD': 0.3, 'SCORE_THRESH': 0.3})"
     },
     "execution_count": 20,
     "metadata": {},
     "output_type": "execute_result"
    }
   ],
   "source": [
    "cfg.MODEL.WEIGHTS = os.path.join(cfg.OUTPUT_DIR, \"model_final.pth\")\n",
    "cfg.MODEL.ROI_HEADS.SCORE_THRESH_TEST = 0.7   # set the testing threshold for this model\n",
    "cfg.MODEL.RETINANET.SCORE_THRESH_TEST = 0.3\n",
    "cfg.DATASETS.TEST = (\"szp_test3\", )\n",
    "cfg.TEST.SCORE_THRESHOLD = 0.3\n",
    "cfg.TEST.SCORE_THRESH = 0.3\n",
    "\n",
    "cfg.TEST.DETECTIONS_PER_IMAGE = 10\n",
    "predictor = DefaultPredictor(cfg)\n",
    "\n",
    "predictor.cfg[\"TEST\"]"
   ]
  },
  {
   "cell_type": "code",
   "execution_count": 21,
   "metadata": {},
   "outputs": [
    {
     "data": {
      "text/plain": "3"
     },
     "execution_count": 21,
     "metadata": {},
     "output_type": "execute_result"
    }
   ],
   "source": [
    "1+2"
   ]
  },
  {
   "cell_type": "code",
   "execution_count": 22,
   "metadata": {},
   "outputs": [],
   "source": [
    "from detectron2.utils.visualizer import ColorMode\n",
    "# dataset_dicts = DatasetCatalog.get(\"szprotawa_val\")"
   ]
  },
  {
   "cell_type": "code",
   "execution_count": 23,
   "metadata": {},
   "outputs": [
    {
     "ename": "RuntimeError",
     "evalue": "The size of tensor a (3) must match the size of tensor b (4) at non-singleton dimension 0",
     "output_type": "error",
     "traceback": [
      "\u001b[0;31m---------------------------------------------------------------------------\u001b[0m",
      "\u001b[0;31mRuntimeError\u001b[0m                              Traceback (most recent call last)",
      "\u001b[0;32m<ipython-input-23-34da51e4a8dd>\u001b[0m in \u001b[0;36m<module>\u001b[0;34m\u001b[0m\n\u001b[1;32m      1\u001b[0m \u001b[0;32mfor\u001b[0m \u001b[0md\u001b[0m \u001b[0;32min\u001b[0m \u001b[0mnp\u001b[0m\u001b[0;34m.\u001b[0m\u001b[0mrandom\u001b[0m\u001b[0;34m.\u001b[0m\u001b[0mchoice\u001b[0m\u001b[0;34m(\u001b[0m\u001b[0mdataset_dicts\u001b[0m\u001b[0;34m,\u001b[0m \u001b[0;36m1\u001b[0m\u001b[0;34m)\u001b[0m\u001b[0;34m:\u001b[0m\u001b[0;34m\u001b[0m\u001b[0;34m\u001b[0m\u001b[0m\n\u001b[1;32m      2\u001b[0m     \u001b[0mim\u001b[0m \u001b[0;34m=\u001b[0m \u001b[0mcv2\u001b[0m\u001b[0;34m.\u001b[0m\u001b[0mimread\u001b[0m\u001b[0;34m(\u001b[0m\u001b[0md\u001b[0m\u001b[0;34m[\u001b[0m\u001b[0;34m\"file_name\"\u001b[0m\u001b[0;34m]\u001b[0m\u001b[0;34m)\u001b[0m\u001b[0;34m\u001b[0m\u001b[0;34m\u001b[0m\u001b[0m\n\u001b[0;32m----> 3\u001b[0;31m     \u001b[0moutputs\u001b[0m \u001b[0;34m=\u001b[0m \u001b[0mpredictor\u001b[0m\u001b[0;34m(\u001b[0m\u001b[0mim\u001b[0m\u001b[0;34m)\u001b[0m\u001b[0;34m\u001b[0m\u001b[0;34m\u001b[0m\u001b[0m\n\u001b[0m\u001b[1;32m      4\u001b[0m     v = Visualizer(im[:,:,::-1].copy(),\n\u001b[1;32m      5\u001b[0m                    \u001b[0mmetadata\u001b[0m\u001b[0;34m=\u001b[0m\u001b[0mmeta\u001b[0m\u001b[0;34m,\u001b[0m\u001b[0;34m\u001b[0m\u001b[0;34m\u001b[0m\u001b[0m\n",
      "\u001b[0;32m~/detectron2/detectron2/engine/defaults.py\u001b[0m in \u001b[0;36m__call__\u001b[0;34m(self, original_image)\u001b[0m\n\u001b[1;32m    194\u001b[0m \u001b[0;34m\u001b[0m\u001b[0m\n\u001b[1;32m    195\u001b[0m             \u001b[0minputs\u001b[0m \u001b[0;34m=\u001b[0m \u001b[0;34m{\u001b[0m\u001b[0;34m\"image\"\u001b[0m\u001b[0;34m:\u001b[0m \u001b[0mimage\u001b[0m\u001b[0;34m,\u001b[0m \u001b[0;34m\"height\"\u001b[0m\u001b[0;34m:\u001b[0m \u001b[0mheight\u001b[0m\u001b[0;34m,\u001b[0m \u001b[0;34m\"width\"\u001b[0m\u001b[0;34m:\u001b[0m \u001b[0mwidth\u001b[0m\u001b[0;34m}\u001b[0m\u001b[0;34m\u001b[0m\u001b[0;34m\u001b[0m\u001b[0m\n\u001b[0;32m--> 196\u001b[0;31m             \u001b[0mpredictions\u001b[0m \u001b[0;34m=\u001b[0m \u001b[0mself\u001b[0m\u001b[0;34m.\u001b[0m\u001b[0mmodel\u001b[0m\u001b[0;34m(\u001b[0m\u001b[0;34m[\u001b[0m\u001b[0minputs\u001b[0m\u001b[0;34m]\u001b[0m\u001b[0;34m)\u001b[0m\u001b[0;34m[\u001b[0m\u001b[0;36m0\u001b[0m\u001b[0;34m]\u001b[0m\u001b[0;34m\u001b[0m\u001b[0;34m\u001b[0m\u001b[0m\n\u001b[0m\u001b[1;32m    197\u001b[0m             \u001b[0;32mreturn\u001b[0m \u001b[0mpredictions\u001b[0m\u001b[0;34m\u001b[0m\u001b[0;34m\u001b[0m\u001b[0m\n\u001b[1;32m    198\u001b[0m \u001b[0;34m\u001b[0m\u001b[0m\n",
      "\u001b[0;32m~/.local/lib/python3.7/site-packages/torch/nn/modules/module.py\u001b[0m in \u001b[0;36m__call__\u001b[0;34m(self, *input, **kwargs)\u001b[0m\n\u001b[1;32m    530\u001b[0m             \u001b[0mresult\u001b[0m \u001b[0;34m=\u001b[0m \u001b[0mself\u001b[0m\u001b[0;34m.\u001b[0m\u001b[0m_slow_forward\u001b[0m\u001b[0;34m(\u001b[0m\u001b[0;34m*\u001b[0m\u001b[0minput\u001b[0m\u001b[0;34m,\u001b[0m \u001b[0;34m**\u001b[0m\u001b[0mkwargs\u001b[0m\u001b[0;34m)\u001b[0m\u001b[0;34m\u001b[0m\u001b[0;34m\u001b[0m\u001b[0m\n\u001b[1;32m    531\u001b[0m         \u001b[0;32melse\u001b[0m\u001b[0;34m:\u001b[0m\u001b[0;34m\u001b[0m\u001b[0;34m\u001b[0m\u001b[0m\n\u001b[0;32m--> 532\u001b[0;31m             \u001b[0mresult\u001b[0m \u001b[0;34m=\u001b[0m \u001b[0mself\u001b[0m\u001b[0;34m.\u001b[0m\u001b[0mforward\u001b[0m\u001b[0;34m(\u001b[0m\u001b[0;34m*\u001b[0m\u001b[0minput\u001b[0m\u001b[0;34m,\u001b[0m \u001b[0;34m**\u001b[0m\u001b[0mkwargs\u001b[0m\u001b[0;34m)\u001b[0m\u001b[0;34m\u001b[0m\u001b[0;34m\u001b[0m\u001b[0m\n\u001b[0m\u001b[1;32m    533\u001b[0m         \u001b[0;32mfor\u001b[0m \u001b[0mhook\u001b[0m \u001b[0;32min\u001b[0m \u001b[0mself\u001b[0m\u001b[0;34m.\u001b[0m\u001b[0m_forward_hooks\u001b[0m\u001b[0;34m.\u001b[0m\u001b[0mvalues\u001b[0m\u001b[0;34m(\u001b[0m\u001b[0;34m)\u001b[0m\u001b[0;34m:\u001b[0m\u001b[0;34m\u001b[0m\u001b[0;34m\u001b[0m\u001b[0m\n\u001b[1;32m    534\u001b[0m             \u001b[0mhook_result\u001b[0m \u001b[0;34m=\u001b[0m \u001b[0mhook\u001b[0m\u001b[0;34m(\u001b[0m\u001b[0mself\u001b[0m\u001b[0;34m,\u001b[0m \u001b[0minput\u001b[0m\u001b[0;34m,\u001b[0m \u001b[0mresult\u001b[0m\u001b[0;34m)\u001b[0m\u001b[0;34m\u001b[0m\u001b[0;34m\u001b[0m\u001b[0m\n",
      "\u001b[0;32m~/detectron2/detectron2/modeling/meta_arch/retinanet.py\u001b[0m in \u001b[0;36mforward\u001b[0;34m(self, batched_inputs)\u001b[0m\n\u001b[1;32m    117\u001b[0m                 \u001b[0mmapping\u001b[0m \u001b[0;32mfrom\u001b[0m \u001b[0ma\u001b[0m \u001b[0mnamed\u001b[0m \u001b[0mloss\u001b[0m \u001b[0mto\u001b[0m \u001b[0ma\u001b[0m \u001b[0mtensor\u001b[0m \u001b[0mstoring\u001b[0m \u001b[0mthe\u001b[0m \u001b[0mloss\u001b[0m\u001b[0;34m.\u001b[0m \u001b[0mUsed\u001b[0m \u001b[0mduring\u001b[0m \u001b[0mtraining\u001b[0m \u001b[0monly\u001b[0m\u001b[0;34m.\u001b[0m\u001b[0;34m\u001b[0m\u001b[0;34m\u001b[0m\u001b[0m\n\u001b[1;32m    118\u001b[0m         \"\"\"\n\u001b[0;32m--> 119\u001b[0;31m         \u001b[0mimages\u001b[0m \u001b[0;34m=\u001b[0m \u001b[0mself\u001b[0m\u001b[0;34m.\u001b[0m\u001b[0mpreprocess_image\u001b[0m\u001b[0;34m(\u001b[0m\u001b[0mbatched_inputs\u001b[0m\u001b[0;34m)\u001b[0m\u001b[0;34m\u001b[0m\u001b[0;34m\u001b[0m\u001b[0m\n\u001b[0m\u001b[1;32m    120\u001b[0m         \u001b[0;32mif\u001b[0m \u001b[0;34m\"instances\"\u001b[0m \u001b[0;32min\u001b[0m \u001b[0mbatched_inputs\u001b[0m\u001b[0;34m[\u001b[0m\u001b[0;36m0\u001b[0m\u001b[0;34m]\u001b[0m\u001b[0;34m:\u001b[0m\u001b[0;34m\u001b[0m\u001b[0;34m\u001b[0m\u001b[0m\n\u001b[1;32m    121\u001b[0m             \u001b[0mgt_instances\u001b[0m \u001b[0;34m=\u001b[0m \u001b[0;34m[\u001b[0m\u001b[0mx\u001b[0m\u001b[0;34m[\u001b[0m\u001b[0;34m\"instances\"\u001b[0m\u001b[0;34m]\u001b[0m\u001b[0;34m.\u001b[0m\u001b[0mto\u001b[0m\u001b[0;34m(\u001b[0m\u001b[0mself\u001b[0m\u001b[0;34m.\u001b[0m\u001b[0mdevice\u001b[0m\u001b[0;34m)\u001b[0m \u001b[0;32mfor\u001b[0m \u001b[0mx\u001b[0m \u001b[0;32min\u001b[0m \u001b[0mbatched_inputs\u001b[0m\u001b[0;34m]\u001b[0m\u001b[0;34m\u001b[0m\u001b[0;34m\u001b[0m\u001b[0m\n",
      "\u001b[0;32m~/detectron2/detectron2/modeling/meta_arch/retinanet.py\u001b[0m in \u001b[0;36mpreprocess_image\u001b[0;34m(self, batched_inputs)\u001b[0m\n\u001b[1;32m    352\u001b[0m         \"\"\"\n\u001b[1;32m    353\u001b[0m         \u001b[0mimages\u001b[0m \u001b[0;34m=\u001b[0m \u001b[0;34m[\u001b[0m\u001b[0mx\u001b[0m\u001b[0;34m[\u001b[0m\u001b[0;34m\"image\"\u001b[0m\u001b[0;34m]\u001b[0m\u001b[0;34m.\u001b[0m\u001b[0mto\u001b[0m\u001b[0;34m(\u001b[0m\u001b[0mself\u001b[0m\u001b[0;34m.\u001b[0m\u001b[0mdevice\u001b[0m\u001b[0;34m)\u001b[0m \u001b[0;32mfor\u001b[0m \u001b[0mx\u001b[0m \u001b[0;32min\u001b[0m \u001b[0mbatched_inputs\u001b[0m\u001b[0;34m]\u001b[0m\u001b[0;34m\u001b[0m\u001b[0;34m\u001b[0m\u001b[0m\n\u001b[0;32m--> 354\u001b[0;31m         \u001b[0mimages\u001b[0m \u001b[0;34m=\u001b[0m \u001b[0;34m[\u001b[0m\u001b[0mself\u001b[0m\u001b[0;34m.\u001b[0m\u001b[0mnormalizer\u001b[0m\u001b[0;34m(\u001b[0m\u001b[0mx\u001b[0m\u001b[0;34m)\u001b[0m \u001b[0;32mfor\u001b[0m \u001b[0mx\u001b[0m \u001b[0;32min\u001b[0m \u001b[0mimages\u001b[0m\u001b[0;34m]\u001b[0m\u001b[0;34m\u001b[0m\u001b[0;34m\u001b[0m\u001b[0m\n\u001b[0m\u001b[1;32m    355\u001b[0m         \u001b[0mimages\u001b[0m \u001b[0;34m=\u001b[0m \u001b[0mImageList\u001b[0m\u001b[0;34m.\u001b[0m\u001b[0mfrom_tensors\u001b[0m\u001b[0;34m(\u001b[0m\u001b[0mimages\u001b[0m\u001b[0;34m,\u001b[0m \u001b[0mself\u001b[0m\u001b[0;34m.\u001b[0m\u001b[0mbackbone\u001b[0m\u001b[0;34m.\u001b[0m\u001b[0msize_divisibility\u001b[0m\u001b[0;34m)\u001b[0m\u001b[0;34m\u001b[0m\u001b[0;34m\u001b[0m\u001b[0m\n\u001b[1;32m    356\u001b[0m         \u001b[0;32mreturn\u001b[0m \u001b[0mimages\u001b[0m\u001b[0;34m\u001b[0m\u001b[0;34m\u001b[0m\u001b[0m\n",
      "\u001b[0;32m~/detectron2/detectron2/modeling/meta_arch/retinanet.py\u001b[0m in \u001b[0;36m<listcomp>\u001b[0;34m(.0)\u001b[0m\n\u001b[1;32m    352\u001b[0m         \"\"\"\n\u001b[1;32m    353\u001b[0m         \u001b[0mimages\u001b[0m \u001b[0;34m=\u001b[0m \u001b[0;34m[\u001b[0m\u001b[0mx\u001b[0m\u001b[0;34m[\u001b[0m\u001b[0;34m\"image\"\u001b[0m\u001b[0;34m]\u001b[0m\u001b[0;34m.\u001b[0m\u001b[0mto\u001b[0m\u001b[0;34m(\u001b[0m\u001b[0mself\u001b[0m\u001b[0;34m.\u001b[0m\u001b[0mdevice\u001b[0m\u001b[0;34m)\u001b[0m \u001b[0;32mfor\u001b[0m \u001b[0mx\u001b[0m \u001b[0;32min\u001b[0m \u001b[0mbatched_inputs\u001b[0m\u001b[0;34m]\u001b[0m\u001b[0;34m\u001b[0m\u001b[0;34m\u001b[0m\u001b[0m\n\u001b[0;32m--> 354\u001b[0;31m         \u001b[0mimages\u001b[0m \u001b[0;34m=\u001b[0m \u001b[0;34m[\u001b[0m\u001b[0mself\u001b[0m\u001b[0;34m.\u001b[0m\u001b[0mnormalizer\u001b[0m\u001b[0;34m(\u001b[0m\u001b[0mx\u001b[0m\u001b[0;34m)\u001b[0m \u001b[0;32mfor\u001b[0m \u001b[0mx\u001b[0m \u001b[0;32min\u001b[0m \u001b[0mimages\u001b[0m\u001b[0;34m]\u001b[0m\u001b[0;34m\u001b[0m\u001b[0;34m\u001b[0m\u001b[0m\n\u001b[0m\u001b[1;32m    355\u001b[0m         \u001b[0mimages\u001b[0m \u001b[0;34m=\u001b[0m \u001b[0mImageList\u001b[0m\u001b[0;34m.\u001b[0m\u001b[0mfrom_tensors\u001b[0m\u001b[0;34m(\u001b[0m\u001b[0mimages\u001b[0m\u001b[0;34m,\u001b[0m \u001b[0mself\u001b[0m\u001b[0;34m.\u001b[0m\u001b[0mbackbone\u001b[0m\u001b[0;34m.\u001b[0m\u001b[0msize_divisibility\u001b[0m\u001b[0;34m)\u001b[0m\u001b[0;34m\u001b[0m\u001b[0;34m\u001b[0m\u001b[0m\n\u001b[1;32m    356\u001b[0m         \u001b[0;32mreturn\u001b[0m \u001b[0mimages\u001b[0m\u001b[0;34m\u001b[0m\u001b[0;34m\u001b[0m\u001b[0m\n",
      "\u001b[0;32m~/detectron2/detectron2/modeling/meta_arch/retinanet.py\u001b[0m in \u001b[0;36m<lambda>\u001b[0;34m(x)\u001b[0m\n\u001b[1;32m     96\u001b[0m         \u001b[0mpixel_mean\u001b[0m \u001b[0;34m=\u001b[0m \u001b[0mtorch\u001b[0m\u001b[0;34m.\u001b[0m\u001b[0mTensor\u001b[0m\u001b[0;34m(\u001b[0m\u001b[0mcfg\u001b[0m\u001b[0;34m.\u001b[0m\u001b[0mMODEL\u001b[0m\u001b[0;34m.\u001b[0m\u001b[0mPIXEL_MEAN\u001b[0m\u001b[0;34m)\u001b[0m\u001b[0;34m.\u001b[0m\u001b[0mto\u001b[0m\u001b[0;34m(\u001b[0m\u001b[0mself\u001b[0m\u001b[0;34m.\u001b[0m\u001b[0mdevice\u001b[0m\u001b[0;34m)\u001b[0m\u001b[0;34m.\u001b[0m\u001b[0mview\u001b[0m\u001b[0;34m(\u001b[0m\u001b[0mnew_channel_nr\u001b[0m\u001b[0;34m,\u001b[0m \u001b[0;36m1\u001b[0m\u001b[0;34m,\u001b[0m \u001b[0;36m1\u001b[0m\u001b[0;34m)\u001b[0m\u001b[0;34m\u001b[0m\u001b[0;34m\u001b[0m\u001b[0m\n\u001b[1;32m     97\u001b[0m         \u001b[0mpixel_std\u001b[0m \u001b[0;34m=\u001b[0m \u001b[0mtorch\u001b[0m\u001b[0;34m.\u001b[0m\u001b[0mTensor\u001b[0m\u001b[0;34m(\u001b[0m\u001b[0mcfg\u001b[0m\u001b[0;34m.\u001b[0m\u001b[0mMODEL\u001b[0m\u001b[0;34m.\u001b[0m\u001b[0mPIXEL_STD\u001b[0m\u001b[0;34m)\u001b[0m\u001b[0;34m.\u001b[0m\u001b[0mto\u001b[0m\u001b[0;34m(\u001b[0m\u001b[0mself\u001b[0m\u001b[0;34m.\u001b[0m\u001b[0mdevice\u001b[0m\u001b[0;34m)\u001b[0m\u001b[0;34m.\u001b[0m\u001b[0mview\u001b[0m\u001b[0;34m(\u001b[0m\u001b[0mnew_channel_nr\u001b[0m\u001b[0;34m,\u001b[0m \u001b[0;36m1\u001b[0m\u001b[0;34m,\u001b[0m \u001b[0;36m1\u001b[0m\u001b[0;34m)\u001b[0m\u001b[0;34m\u001b[0m\u001b[0;34m\u001b[0m\u001b[0m\n\u001b[0;32m---> 98\u001b[0;31m         \u001b[0mself\u001b[0m\u001b[0;34m.\u001b[0m\u001b[0mnormalizer\u001b[0m \u001b[0;34m=\u001b[0m \u001b[0;32mlambda\u001b[0m \u001b[0mx\u001b[0m\u001b[0;34m:\u001b[0m \u001b[0;34m(\u001b[0m\u001b[0mx\u001b[0m \u001b[0;34m-\u001b[0m \u001b[0mpixel_mean\u001b[0m\u001b[0;34m)\u001b[0m \u001b[0;34m/\u001b[0m \u001b[0mpixel_std\u001b[0m\u001b[0;34m\u001b[0m\u001b[0;34m\u001b[0m\u001b[0m\n\u001b[0m\u001b[1;32m     99\u001b[0m         \u001b[0mself\u001b[0m\u001b[0;34m.\u001b[0m\u001b[0mto\u001b[0m\u001b[0;34m(\u001b[0m\u001b[0mself\u001b[0m\u001b[0;34m.\u001b[0m\u001b[0mdevice\u001b[0m\u001b[0;34m)\u001b[0m\u001b[0;34m\u001b[0m\u001b[0;34m\u001b[0m\u001b[0m\n\u001b[1;32m    100\u001b[0m \u001b[0;34m\u001b[0m\u001b[0m\n",
      "\u001b[0;31mRuntimeError\u001b[0m: The size of tensor a (3) must match the size of tensor b (4) at non-singleton dimension 0"
     ]
    }
   ],
   "source": [
    "\n",
    "for d in np.random.choice(dataset_dicts, 1):    \n",
    "    im = cv2.imread(d[\"file_name\"])\n",
    "    outputs = predictor(im)\n",
    "    v = Visualizer(im[:,:,::-1].copy(),\n",
    "                   metadata=meta, \n",
    "                   scale=0.8)\n",
    "    vis = v.draw_instance_predictions(outputs[\"instances\"].to(\"cpu\"))\n",
    "    f, a = plt.subplots(1,2, figsize=(10,5))\n",
    "    a[0].imshow(vis.get_image())\n",
    "    \n",
    "    v = Visualizer(im[:,:,::-1].copy(),\n",
    "                   metadata=meta, \n",
    "                   scale=0.8)\n",
    "    vis = v.draw_dataset_dict(d)\n",
    "    a[1].imshow(vis.get_image())"
   ]
  },
  {
   "cell_type": "code",
   "execution_count": 0,
   "metadata": {},
   "outputs": [],
   "source": [
    "_ = register_detectron2_datasets(\"szprott\", \"./data/szprotawa_patches_256/\", 0.7, 0.15, 0.15, 100, {'test': splits['test'][:500]})"
   ]
  },
  {
   "cell_type": "code",
   "execution_count": 0,
   "metadata": {},
   "outputs": [],
   "source": [
    "from detectron2.evaluation import DatasetEvaluator, COCOEvaluator, inference_on_dataset\n",
    "from detectron2.data import build_detection_test_loader\n",
    "\n",
    "\n",
    "\n",
    "evaluator = COCOEvaluator(\"szprottx_test\", cfg, False, output_dir=cfg.OUTPUT_DIR)\n",
    "val_loader = build_detection_test_loader(cfg, \"szprott_test\")\n",
    "inference_on_dataset(trainer.model, val_loader, evaluator)\n",
    "# another equivalent way is to use trainer.test"
   ]
  },
  {
   "cell_type": "code",
   "execution_count": 0,
   "metadata": {},
   "outputs": [],
   "source": [
    "1+2"
   ]
  },
  {
   "cell_type": "code",
   "execution_count": 0,
   "metadata": {},
   "outputs": [],
   "source": [
    "outputs.keys()"
   ]
  },
  {
   "cell_type": "code",
   "execution_count": null,
   "metadata": {},
   "outputs": [],
   "source": []
  },
  {
   "cell_type": "code",
   "execution_count": null,
   "metadata": {},
   "outputs": [],
   "source": []
  }
 ],
 "metadata": {
  "kernelspec": {
   "display_name": "Python 3",
   "language": "python",
   "name": "python3"
  },
  "language_info": {
   "codemirror_mode": {
    "name": "ipython",
    "version": 3
   },
   "file_extension": ".py",
   "mimetype": "text/x-python",
   "name": "python",
   "nbconvert_exporter": "python",
   "pygments_lexer": "ipython3",
   "version": "3.7.6-final"
  }
 },
 "nbformat": 4,
 "nbformat_minor": 4
}