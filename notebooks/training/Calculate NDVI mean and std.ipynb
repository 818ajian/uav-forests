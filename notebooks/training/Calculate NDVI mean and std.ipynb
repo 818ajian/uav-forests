{
 "cells": [
  {
   "cell_type": "code",
   "execution_count": 1,
   "metadata": {},
   "outputs": [],
   "source": [
    "import os \n",
    "os.chdir(\"../..\")"
   ]
  },
  {
   "cell_type": "code",
   "execution_count": 2,
   "metadata": {},
   "outputs": [],
   "source": [
    "import numpy as np\n",
    "#from detectron2.structures import BoxMode\n",
    "import cv2\n",
    "import matplotlib.pyplot as plt\n",
    "\n",
    "\n",
    "from detectron2.data import DatasetCatalog, MetadataCatalog\n",
    "from detectron2.utils.visualizer import Visualizer\n",
    "from src.utils.dataset import register_detectron2_multipart_datasets\n",
    "from src.utils.training import get_splits_for_multipart_dataset\n",
    "\n",
    "import tqdm"
   ]
  },
  {
   "cell_type": "code",
   "execution_count": 3,
   "metadata": {},
   "outputs": [
    {
     "name": "stdout",
     "output_type": "stream",
     "text": [
      "lubsko\t\tswiebodzin  torzym\t\t       zagan\n",
      "sulechow_slawa\tszprotawa   train_val_test_splits.pkl\n"
     ]
    }
   ],
   "source": [
    "!ls data/training/RGBN"
   ]
  },
  {
   "cell_type": "code",
   "execution_count": 4,
   "metadata": {},
   "outputs": [],
   "source": [
    "base_path = \"data/training/RGBN/\"\n",
    "train_val_maps = [\"szprotawa\", \"swiebodzin\", \"lubsko\", \"zagan\", \"torzym\"]\n",
    "test_maps = [\"sulechow_slawa\"]"
   ]
  },
  {
   "cell_type": "code",
   "execution_count": 5,
   "metadata": {},
   "outputs": [],
   "source": [
    "splits = get_splits_for_multipart_dataset(base_path, train_val_maps, test_maps)"
   ]
  },
  {
   "cell_type": "code",
   "execution_count": 6,
   "metadata": {},
   "outputs": [],
   "source": [
    "register_detectron2_multipart_datasets(\"sick_trees\", \n",
    "                                       {m: base_path + m for m in train_val_maps},\n",
    "                                       splits, min_bbox_area=200)"
   ]
  },
  {
   "cell_type": "code",
   "execution_count": 7,
   "metadata": {},
   "outputs": [],
   "source": [
    "meta = MetadataCatalog.get('sick_trees_train')"
   ]
  },
  {
   "cell_type": "code",
   "execution_count": 8,
   "metadata": {},
   "outputs": [
    {
     "name": "stdout",
     "output_type": "stream",
     "text": [
      "CPU times: user 12.5 s, sys: 15.3 ms, total: 12.5 s\n",
      "Wall time: 12.5 s\n"
     ]
    },
    {
     "data": {
      "text/plain": [
       "22069"
      ]
     },
     "execution_count": 8,
     "metadata": {},
     "output_type": "execute_result"
    }
   ],
   "source": [
    "%%time\n",
    "train_dataset_dicts = DatasetCatalog.get(\"sick_trees_train\")\n",
    "len(train_dataset_dicts)"
   ]
  },
  {
   "cell_type": "code",
   "execution_count": 9,
   "metadata": {},
   "outputs": [
    {
     "name": "stdout",
     "output_type": "stream",
     "text": [
      "CPU times: user 3.73 s, sys: 4.11 ms, total: 3.73 s\n",
      "Wall time: 3.73 s\n"
     ]
    },
    {
     "data": {
      "text/plain": [
       "5504"
      ]
     },
     "execution_count": 9,
     "metadata": {},
     "output_type": "execute_result"
    }
   ],
   "source": [
    "%%time\n",
    "val_dataset_dicts = DatasetCatalog.get(\"sick_trees_val\")\n",
    "len(val_dataset_dicts)"
   ]
  },
  {
   "cell_type": "code",
   "execution_count": 10,
   "metadata": {},
   "outputs": [
    {
     "data": {
      "application/vnd.jupyter.widget-view+json": {
       "model_id": "35550d7146e040b0b170ad54ee49bdf6",
       "version_major": 2,
       "version_minor": 0
      },
      "text/plain": [
       "HBox(children=(FloatProgress(value=0.0, max=22069.0), HTML(value='')))"
      ]
     },
     "metadata": {},
     "output_type": "display_data"
    },
    {
     "name": "stdout",
     "output_type": "stream",
     "text": [
      "\n",
      "r mean:  68.60176277048289\n",
      "r std:  25.05072945688351\n",
      "g mean:  90.37255792238817\n",
      "g std:  22.96708310183466\n",
      "b mean:  99.04053918695983\n",
      "b std:  13.27640256812483\n",
      "n mean:  187.12327778336686\n",
      "n std:  10.55706656507702\n"
     ]
    }
   ],
   "source": [
    "means = {c: [] for c in \"rgbn\"}\n",
    "stds = {c: [] for c in \"rgbn\"}\n",
    "\n",
    "for d in tqdm.notebook.tqdm(train_dataset_dicts):\n",
    "    im = cv2.imread(d[\"file_name\"], cv2.IMREAD_UNCHANGED)\n",
    "    for i, c in enumerate(\"rgbn\"):\n",
    "        means[c].append(im[:,:,i].mean())\n",
    "        stds[c].append(im[:,:,i].std())\n",
    "    \n",
    "# print(\"mean of means: \", np.mean(ndvi_means))\n",
    "# print(\"mean of stds:  \", np.mean(ndvi_stds))\n",
    "# print(\"std of means:  \", np.std(ndvi_means))\n",
    "for c in \"rgbn\":\n",
    "    print(c, \"mean: \", np.mean(means[c]))\n",
    "    print(c, \"std: \", np.mean(stds[c]))"
   ]
  },
  {
   "cell_type": "code",
   "execution_count": 11,
   "metadata": {},
   "outputs": [
    {
     "name": "stdout",
     "output_type": "stream",
     "text": [
      "std of stds:   6.853606558543485\n"
     ]
    }
   ],
   "source": [
    "# print(\"std of stds:  \", np.std(ndvi_stds))"
   ]
  },
  {
   "cell_type": "code",
   "execution_count": 11,
   "metadata": {},
   "outputs": [
    {
     "data": {
      "text/plain": [
       "[68.60176277048289, 90.37255792238817, 99.04053918695983, 187.12327778336686]"
      ]
     },
     "execution_count": 11,
     "metadata": {},
     "output_type": "execute_result"
    }
   ],
   "source": [
    "[np.mean(means[c]) for c in \"rgbn\"]"
   ]
  },
  {
   "cell_type": "code",
   "execution_count": 12,
   "metadata": {},
   "outputs": [
    {
     "data": {
      "text/plain": [
       "[25.05072945688351, 22.96708310183466, 13.27640256812483, 10.55706656507702]"
      ]
     },
     "execution_count": 12,
     "metadata": {},
     "output_type": "execute_result"
    }
   ],
   "source": [
    "[np.mean(stds[c]) for c in \"rgbn\"]"
   ]
  },
  {
   "cell_type": "code",
   "execution_count": null,
   "metadata": {},
   "outputs": [],
   "source": []
  }
 ],
 "metadata": {
  "kernelspec": {
   "display_name": "Python 3.7.6 64-bit ('geopython37': conda)",
   "language": "python",
   "name": "python37664bitgeopython37conda30d473030fe74c30a82d968355a37c5e"
  },
  "language_info": {
   "codemirror_mode": {
    "name": "ipython",
    "version": 3
   },
   "file_extension": ".py",
   "mimetype": "text/x-python",
   "name": "python",
   "nbconvert_exporter": "python",
   "pygments_lexer": "ipython3",
   "version": "3.7.6"
  }
 },
 "nbformat": 4,
 "nbformat_minor": 4
}
