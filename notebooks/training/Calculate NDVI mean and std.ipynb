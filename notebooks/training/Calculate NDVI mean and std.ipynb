{
 "cells": [
  {
   "cell_type": "code",
   "execution_count": 2,
   "metadata": {},
   "outputs": [],
   "source": [
    "import os \n",
    "os.chdir(\"../..\")"
   ]
  },
  {
   "cell_type": "code",
   "execution_count": 4,
   "metadata": {},
   "outputs": [],
   "source": [
    "import numpy as np\n",
    "#from detectron2.structures import BoxMode\n",
    "import cv2\n",
    "import matplotlib.pyplot as plt\n",
    "\n",
    "\n",
    "from detectron2.data import DatasetCatalog, MetadataCatalog\n",
    "from detectron2.utils.visualizer import Visualizer\n",
    "from src.utils.dataset import register_detectron2_multipart_datasets, get_splits_for_multipart_dataset\n",
    "# from src.utils.training import get_splits_for_multipart_dataset\n",
    "\n",
    "import tqdm"
   ]
  },
  {
   "cell_type": "code",
   "execution_count": 5,
   "metadata": {},
   "outputs": [
    {
     "name": "stdout",
     "output_type": "stream",
     "text": [
      "lubsko\t\tswiebodzin  torzym\t\t       zagan\n",
      "sulechow_slawa\tszprotawa   train_val_test_splits.pkl\n"
     ]
    }
   ],
   "source": [
    "!ls data/training/RGBN"
   ]
  },
  {
   "cell_type": "code",
   "execution_count": 6,
   "metadata": {},
   "outputs": [],
   "source": [
    "base_path = \"data/training/RGBN/\"\n",
    "train_val_maps = [\"szprotawa\", \"swiebodzin\", \"lubsko\", \"zagan\", \"torzym\"]\n",
    "test_maps = [\"sulechow_slawa\"]"
   ]
  },
  {
   "cell_type": "code",
   "execution_count": 7,
   "metadata": {},
   "outputs": [
    {
     "name": "stdout",
     "output_type": "stream",
     "text": [
      "Reusing existing splits_file\n"
     ]
    }
   ],
   "source": [
    "splits = get_splits_for_multipart_dataset(base_path, train_val_maps, test_maps)"
   ]
  },
  {
   "cell_type": "code",
   "execution_count": 8,
   "metadata": {},
   "outputs": [],
   "source": [
    "register_detectron2_multipart_datasets(\"sick_trees\", \n",
    "                                       {m: base_path + m for m in train_val_maps},\n",
    "                                       splits, min_bbox_area=200)"
   ]
  },
  {
   "cell_type": "code",
   "execution_count": 7,
   "metadata": {},
   "outputs": [],
   "source": [
    "meta = MetadataCatalog.get('sick_trees_train')"
   ]
  },
  {
   "cell_type": "code",
   "execution_count": 9,
   "metadata": {},
   "outputs": [
    {
     "name": "stdout",
     "output_type": "stream",
     "text": [
      "CPU times: user 12.6 s, sys: 0 ns, total: 12.6 s\n",
      "Wall time: 12.6 s\n"
     ]
    },
    {
     "data": {
      "text/plain": [
       "22076"
      ]
     },
     "execution_count": 9,
     "metadata": {},
     "output_type": "execute_result"
    }
   ],
   "source": [
    "%%time\n",
    "train_dataset_dicts = DatasetCatalog.get(\"sick_trees_train\")\n",
    "len(train_dataset_dicts)"
   ]
  },
  {
   "cell_type": "code",
   "execution_count": 9,
   "metadata": {},
   "outputs": [
    {
     "name": "stdout",
     "output_type": "stream",
     "text": [
      "CPU times: user 3.73 s, sys: 4.11 ms, total: 3.73 s\n",
      "Wall time: 3.73 s\n"
     ]
    },
    {
     "data": {
      "text/plain": [
       "5504"
      ]
     },
     "execution_count": 9,
     "metadata": {},
     "output_type": "execute_result"
    }
   ],
   "source": [
    "%%time\n",
    "val_dataset_dicts = DatasetCatalog.get(\"sick_trees_val\")\n",
    "len(val_dataset_dicts)"
   ]
  },
  {
   "cell_type": "code",
   "execution_count": 10,
   "metadata": {},
   "outputs": [
    {
     "data": {
      "application/vnd.jupyter.widget-view+json": {
       "model_id": "35550d7146e040b0b170ad54ee49bdf6",
       "version_major": 2,
       "version_minor": 0
      },
      "text/plain": [
       "HBox(children=(FloatProgress(value=0.0, max=22069.0), HTML(value='')))"
      ]
     },
     "metadata": {},
     "output_type": "display_data"
    },
    {
     "name": "stdout",
     "output_type": "stream",
     "text": [
      "\n",
      "r mean:  68.60176277048289\n",
      "r std:  25.05072945688351\n",
      "g mean:  90.37255792238817\n",
      "g std:  22.96708310183466\n",
      "b mean:  99.04053918695983\n",
      "b std:  13.27640256812483\n",
      "n mean:  187.12327778336686\n",
      "n std:  10.55706656507702\n"
     ]
    }
   ],
   "source": [
    "means = {c: [] for c in \"rgbn\"}\n",
    "stds = {c: [] for c in \"rgbn\"}\n",
    "\n",
    "for d in tqdm.notebook.tqdm(train_dataset_dicts):\n",
    "    im = cv2.imread(d[\"file_name\"], cv2.IMREAD_UNCHANGED)\n",
    "    for i, c in enumerate(\"rgbn\"):\n",
    "        means[c].append(im[:,:,i].mean())\n",
    "        stds[c].append(im[:,:,i].std())\n",
    "    \n",
    "# print(\"mean of means: \", np.mean(ndvi_means))\n",
    "# print(\"mean of stds:  \", np.mean(ndvi_stds))\n",
    "# print(\"std of means:  \", np.std(ndvi_means))\n",
    "for c in \"rgbn\":\n",
    "    print(c, \"mean: \", np.mean(means[c]))\n",
    "    print(c, \"std: \", np.mean(stds[c]))"
   ]
  },
  {
   "cell_type": "code",
   "execution_count": 11,
   "metadata": {},
   "outputs": [
    {
     "name": "stdout",
     "output_type": "stream",
     "text": [
      "std of stds:   6.853606558543485\n"
     ]
    }
   ],
   "source": [
    "# print(\"std of stds:  \", np.std(ndvi_stds))"
   ]
  },
  {
   "cell_type": "code",
   "execution_count": 11,
   "metadata": {},
   "outputs": [
    {
     "data": {
      "text/plain": [
       "[68.60176277048289, 90.37255792238817, 99.04053918695983, 187.12327778336686]"
      ]
     },
     "execution_count": 11,
     "metadata": {},
     "output_type": "execute_result"
    }
   ],
   "source": [
    "[np.mean(means[c]) for c in \"rgbn\"]"
   ]
  },
  {
   "cell_type": "code",
   "execution_count": 12,
   "metadata": {},
   "outputs": [
    {
     "data": {
      "text/plain": [
       "[25.05072945688351, 22.96708310183466, 13.27640256812483, 10.55706656507702]"
      ]
     },
     "execution_count": 12,
     "metadata": {},
     "output_type": "execute_result"
    }
   ],
   "source": [
    "[np.mean(stds[c]) for c in \"rgbn\"]"
   ]
  },
  {
   "cell_type": "code",
   "execution_count": 10,
   "metadata": {},
   "outputs": [],
   "source": [
    "def area(args):\n",
    "    return (args[2] - args[0]) * (args[3] - args[1])"
   ]
  },
  {
   "cell_type": "code",
   "execution_count": 11,
   "metadata": {},
   "outputs": [],
   "source": [
    "areas = []\n",
    "for d in train_dataset_dicts:\n",
    "    for ann in d['annotations']:\n",
    "        areas.append(area(ann['bbox']))"
   ]
  },
  {
   "cell_type": "code",
   "execution_count": 16,
   "metadata": {},
   "outputs": [
    {
     "data": {
      "text/plain": [
       "432.0"
      ]
     },
     "execution_count": 16,
     "metadata": {},
     "output_type": "execute_result"
    }
   ],
   "source": [
    "np.quantile(areas, 0.15)"
   ]
  },
  {
   "cell_type": "code",
   "execution_count": 17,
   "metadata": {},
   "outputs": [],
   "source": [
    "def aspect_ratio(args):\n",
    "    dim_1 = (args[2] - args[0])\n",
    "    dim_2 = (args[3] - args[1])\n",
    "    return min(dim_1, dim_2) / max(dim_1, dim_2)"
   ]
  },
  {
   "cell_type": "code",
   "execution_count": 18,
   "metadata": {},
   "outputs": [],
   "source": [
    "ratios = []\n",
    "for d in train_dataset_dicts:\n",
    "    for ann in d['annotations']:\n",
    "        ratios.append(aspect_ratio(ann['bbox']))"
   ]
  },
  {
   "cell_type": "code",
   "execution_count": 20,
   "metadata": {},
   "outputs": [
    {
     "data": {
      "text/plain": [
       "(array([  10.,    9.,   27.,   41.,   31.,   32.,   66.,   77.,   91.,\n",
       "         117.,  137.,  182.,  140.,  172.,  165.,  197.,  213.,  261.,\n",
       "         287.,  308.,  314.,  339.,  342.,  323.,  352.,  481.,  435.,\n",
       "         525.,  544.,  574.,  580.,  731.,  742.,  708.,  791.,  821.,\n",
       "         821.,  961., 1032.,  869., 1018., 1115., 1079., 1074., 1214.,\n",
       "        1168., 1171., 1184., 1174., 1012.]),\n",
       " array([0.02836879, 0.04780142, 0.06723404, 0.08666667, 0.10609929,\n",
       "        0.12553191, 0.14496454, 0.16439716, 0.18382979, 0.20326241,\n",
       "        0.22269504, 0.24212766, 0.26156028, 0.28099291, 0.30042553,\n",
       "        0.31985816, 0.33929078, 0.3587234 , 0.37815603, 0.39758865,\n",
       "        0.41702128, 0.4364539 , 0.45588652, 0.47531915, 0.49475177,\n",
       "        0.5141844 , 0.53361702, 0.55304965, 0.57248227, 0.59191489,\n",
       "        0.61134752, 0.63078014, 0.65021277, 0.66964539, 0.68907801,\n",
       "        0.70851064, 0.72794326, 0.74737589, 0.76680851, 0.78624113,\n",
       "        0.80567376, 0.82510638, 0.84453901, 0.86397163, 0.88340426,\n",
       "        0.90283688, 0.9222695 , 0.94170213, 0.96113475, 0.98056738,\n",
       "        1.        ]),\n",
       " <a list of 50 Patch objects>)"
      ]
     },
     "execution_count": 20,
     "metadata": {},
     "output_type": "execute_result"
    },
    {
     "data": {
      "image/png": "[encoded data removed]",
      "text/plain": [
       "<Figure size 432x288 with 1 Axes>"
      ]
     },
     "metadata": {
      "needs_background": "light"
     },
     "output_type": "display_data"
    }
   ],
   "source": [
    "plt.hist(ratios, bins=50)"
   ]
  },
  {
   "cell_type": "code",
   "execution_count": 33,
   "metadata": {},
   "outputs": [
    {
     "data": {
      "text/plain": [
       "403.0"
      ]
     },
     "execution_count": 33,
     "metadata": {},
     "output_type": "execute_result"
    }
   ],
   "source": [
    "np.quantile(areas, 0.13)"
   ]
  },
  {
   "cell_type": "code",
   "execution_count": 34,
   "metadata": {},
   "outputs": [
    {
     "data": {
      "text/plain": [
       "936.0"
      ]
     },
     "execution_count": 34,
     "metadata": {},
     "output_type": "execute_result"
    }
   ],
   "source": [
    "np.median(areas)"
   ]
  },
  {
   "cell_type": "code",
   "execution_count": 35,
   "metadata": {},
   "outputs": [
    {
     "data": {
      "text/plain": [
       "2639.288175922017"
      ]
     },
     "execution_count": 35,
     "metadata": {},
     "output_type": "execute_result"
    }
   ],
   "source": [
    "np.mean(areas)"
   ]
  },
  {
   "cell_type": "code",
   "execution_count": null,
   "metadata": {},
   "outputs": [],
   "source": []
  },
  {
   "cell_type": "code",
   "execution_count": 21,
   "metadata": {},
   "outputs": [],
   "source": [
    "import shapely as shp"
   ]
  },
  {
   "cell_type": "code",
   "execution_count": null,
   "metadata": {},
   "outputs": [],
   "source": []
  },
  {
   "cell_type": "code",
   "execution_count": 69,
   "metadata": {},
   "outputs": [
    {
     "name": "stdout",
     "output_type": "stream",
     "text": [
      "0.25\n"
     ]
    },
    {
     "data": {
      "image/svg+xml": [
       "<svg xmlns=\"http://www.w3.org/2000/svg\" xmlns:xlink=\"http://www.w3.org/1999/xlink\" width=\"100.0\" height=\"100.0\" viewBox=\"-1.6 -1.6 43.2 13.2\" preserveAspectRatio=\"xMinYMin meet\"><g transform=\"matrix(1,0,0,-1,0,10.0)\"><path fill-rule=\"evenodd\" fill=\"#66cc99\" stroke=\"#555555\" stroke-width=\"0.8640000000000001\" opacity=\"0.6\" d=\"M 40.0,0.0 L 40.0,10.0 L 0.0,10.0 L 0.0,0.0 L 40.0,0.0 z\" /></g></svg>"
      ],
      "text/plain": [
       "<shapely.geometry.polygon.Polygon at 0x7f422996db90>"
      ]
     },
     "execution_count": 69,
     "metadata": {},
     "output_type": "execute_result"
    }
   ],
   "source": [
    "xyxy = [0, 0, 40, 10]\n",
    "print(aspect_ratio(xyxy))\n",
    "shp.geometry.box(*xyxy)"
   ]
  },
  {
   "cell_type": "code",
   "execution_count": 29,
   "metadata": {},
   "outputs": [
    {
     "data": {
      "text/plain": [
       "0.32000000000000006"
      ]
     },
     "execution_count": 29,
     "metadata": {},
     "output_type": "execute_result"
    }
   ],
   "source": [
    "np.quantile(ratios, 0.05)"
   ]
  },
  {
   "cell_type": "code",
   "execution_count": 40,
   "metadata": {},
   "outputs": [],
   "source": [
    "ratios_area = []\n",
    "for d in train_dataset_dicts:\n",
    "    for ann in d['annotations']:\n",
    "        if area(ann[\"bbox\"])<400:\n",
    "            ratios_area.append(aspect_ratio(ann['bbox']))"
   ]
  },
  {
   "cell_type": "code",
   "execution_count": 41,
   "metadata": {},
   "outputs": [
    {
     "data": {
      "text/plain": [
       "(array([  6.,  10.,  13.,  13.,   8.,  16.,  22.,  30.,  40.,  41.,  74.,\n",
       "         63.,  26.,  76.,  62.,  65.,  58.,  82.,  62.,  67.,  38., 109.,\n",
       "         58.,  83.,  43.,  73.,  66.,  93.,  79.,  50.,  63.,  94.,  53.,\n",
       "         55.,  83.,  89., 110.,  52.,  75.,  50., 154.,  79., 140.,  58.,\n",
       "        177.,  88.,  95., 172.,   0., 103.]),\n",
       " array([0.04081633, 0.06      , 0.07918367, 0.09836735, 0.11755102,\n",
       "        0.13673469, 0.15591837, 0.17510204, 0.19428571, 0.21346939,\n",
       "        0.23265306, 0.25183673, 0.27102041, 0.29020408, 0.30938776,\n",
       "        0.32857143, 0.3477551 , 0.36693878, 0.38612245, 0.40530612,\n",
       "        0.4244898 , 0.44367347, 0.46285714, 0.48204082, 0.50122449,\n",
       "        0.52040816, 0.53959184, 0.55877551, 0.57795918, 0.59714286,\n",
       "        0.61632653, 0.6355102 , 0.65469388, 0.67387755, 0.69306122,\n",
       "        0.7122449 , 0.73142857, 0.75061224, 0.76979592, 0.78897959,\n",
       "        0.80816327, 0.82734694, 0.84653061, 0.86571429, 0.88489796,\n",
       "        0.90408163, 0.92326531, 0.94244898, 0.96163265, 0.98081633,\n",
       "        1.        ]),\n",
       " <a list of 50 Patch objects>)"
      ]
     },
     "execution_count": 41,
     "metadata": {},
     "output_type": "execute_result"
    },
    {
     "data": {
      "image/png": "[encoded data removed]",
      "text/plain": [
       "<Figure size 432x288 with 1 Axes>"
      ]
     },
     "metadata": {
      "needs_background": "light"
     },
     "output_type": "display_data"
    }
   ],
   "source": [
    "plt.hist(ratios_area, bins=50)"
   ]
  },
  {
   "cell_type": "code",
   "execution_count": 43,
   "metadata": {},
   "outputs": [],
   "source": [
    "import pandas as pd\n",
    "import geopandas as gpd\n",
    "annotations = pd.read_pickle(\n",
    "            f\"data/szprotawa/szprotawa_patches_256//annotation.pkl\").set_geometry(\"bbox\")"
   ]
  },
  {
   "cell_type": "code",
   "execution_count": 51,
   "metadata": {},
   "outputs": [
    {
     "data": {
      "text/plain": [
       "0       ([132.0, 162.0, 162.0, 132.0, 132.0], [152.0, ...\n",
       "1       ([132.0, 162.0, 162.0, 132.0, 132.0], [24.0, 2...\n",
       "2       ([135.0, 164.0, 164.0, 135.0, 135.0], [203.0, ...\n",
       "3       ([135.0, 164.0, 164.0, 135.0, 135.0], [75.0, 7...\n",
       "4       ([4.0, 34.0, 34.0, 4.0, 4.0], [152.0, 152.0, 1...\n",
       "                              ...                        \n",
       "7841    ([201.0, 256.0, 256.0, 201.0, 201.0], [27.0, 2...\n",
       "7842    ([73.0, 177.0, 177.0, 73.0, 73.0], [155.0, 155...\n",
       "7843    ([73.0, 177.0, 177.0, 73.0, 73.0], [27.0, 27.0...\n",
       "7844    ([0.0, 49.0, 49.0, 0.0, 0.0], [176.86666666666...\n",
       "7845    ([0.0, 49.0, 49.0, 0.0, 0.0], [48.866666666666...\n",
       "Name: bbox, Length: 7846, dtype: object"
      ]
     },
     "execution_count": 51,
     "metadata": {},
     "output_type": "execute_result"
    }
   ],
   "source": [
    "annotations.bbox.apply(lambda x: x.area >0 and x.exterior.xy)"
   ]
  },
  {
   "cell_type": "code",
   "execution_count": 54,
   "metadata": {},
   "outputs": [],
   "source": [
    "b = annotations.bbox.iloc[1203]"
   ]
  },
  {
   "cell_type": "code",
   "execution_count": 62,
   "metadata": {},
   "outputs": [
    {
     "data": {
      "text/plain": [
       "(array('d', [111.0, 139.0, 139.0, 111.0, 111.0]),\n",
       " array('d', [69.0, 69.0, 108.0, 108.0, 69.0]))"
      ]
     },
     "execution_count": 62,
     "metadata": {},
     "output_type": "execute_result"
    }
   ],
   "source": [
    "b.boundary.xy"
   ]
  },
  {
   "cell_type": "code",
   "execution_count": null,
   "metadata": {},
   "outputs": [],
   "source": []
  }
 ],
 "metadata": {
  "kernelspec": {
   "display_name": "Python 3.7.6 64-bit ('geopython37': conda)",
   "language": "python",
   "name": "python37664bitgeopython37conda30d473030fe74c30a82d968355a37c5e"
  },
  "language_info": {
   "codemirror_mode": {
    "name": "ipython",
    "version": 3
   },
   "file_extension": ".py",
   "mimetype": "text/x-python",
   "name": "python",
   "nbconvert_exporter": "python",
   "pygments_lexer": "ipython3",
   "version": "3.7.6"
  }
 },
 "nbformat": 4,
 "nbformat_minor": 4
}
